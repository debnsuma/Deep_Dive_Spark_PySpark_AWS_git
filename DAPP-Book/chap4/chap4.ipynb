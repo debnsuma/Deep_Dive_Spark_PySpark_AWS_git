{
 "cells": [
  {
   "cell_type": "code",
   "execution_count": 1,
   "metadata": {},
   "outputs": [
    {
     "name": "stderr",
     "output_type": "stream",
     "text": [
      "Setting default log level to \"WARN\".\n",
      "To adjust logging level use sc.setLogLevel(newLevel). For SparkR, use setLogLevel(newLevel).\n"
     ]
    }
   ],
   "source": [
    "from pyspark.sql import SparkSession \n",
    "from pyspark.sql import functions as F \n",
    "\n",
    "spark = (SparkSession\n",
    "            .builder\n",
    "            .appName(\"Demo App\")\n",
    "            .config(\"spark.ui.port\", \"4050\")\n",
    "            .getOrCreate()\n",
    "            )\n",
    "\n",
    "# Setting the log level to ERROR \n",
    "spark.sparkContext.setLogLevel('ERROR')"
   ]
  },
  {
   "cell_type": "markdown",
   "metadata": {},
   "source": [
    "# Creating a DF from a List of List "
   ]
  },
  {
   "cell_type": "code",
   "execution_count": 2,
   "metadata": {},
   "outputs": [],
   "source": [
    "my_grocery_list = [\n",
    "    [\"Banana\", 2, 1.74],\n",
    "    [\"Apple\", 4, 2.04],\n",
    "    [\"Carrot\", 1, 1.09],\n",
    "    [\"Cake\", 1, 10.99],\n",
    "    ]"
   ]
  },
  {
   "cell_type": "code",
   "execution_count": 3,
   "metadata": {},
   "outputs": [
    {
     "name": "stdout",
     "output_type": "stream",
     "text": [
      "+------+--------+-----+\n",
      "|  Item|Quantity|Price|\n",
      "+------+--------+-----+\n",
      "|Banana|       2| 1.74|\n",
      "| Apple|       4| 2.04|\n",
      "|Carrot|       1| 1.09|\n",
      "|  Cake|       1|10.99|\n",
      "+------+--------+-----+\n",
      "\n",
      "root\n",
      " |-- Item: string (nullable = true)\n",
      " |-- Quantity: long (nullable = true)\n",
      " |-- Price: double (nullable = true)\n",
      "\n"
     ]
    },
    {
     "name": "stderr",
     "output_type": "stream",
     "text": [
      "                                                                                \r"
     ]
    }
   ],
   "source": [
    "df = spark.createDataFrame(my_grocery_list, ['Item', 'Quantity', 'Price'])\n",
    "df.show()\n",
    "df.printSchema()"
   ]
  },
  {
   "cell_type": "raw",
   "metadata": {},
   "source": [
    "The master node knows about the structure of the data frame, but the actual data\n",
    "is represented on the worker nodes"
   ]
  },
  {
   "cell_type": "code",
   "execution_count": 4,
   "metadata": {},
   "outputs": [
    {
     "name": "stdout",
     "output_type": "stream",
     "text": [
      "                           PRE ReferenceTables/\n",
      "2023-01-11 17:09:16   33922161 BroadcastLogs_2018_Q3_M8_sample.CSV\n",
      "2023-01-11 17:14:40      18219 Call_Signs.csv\n",
      "2023-01-11 17:13:51      72704 data dictionary.doc\n"
     ]
    }
   ],
   "source": [
    "!sudo aws s3 ls s3://data-engg-suman/dataset/all-book-sataset/broadcast_logs/"
   ]
  },
  {
   "cell_type": "markdown",
   "metadata": {},
   "source": [
    "# Reading a CSV file "
   ]
  },
  {
   "cell_type": "code",
   "execution_count": 5,
   "metadata": {},
   "outputs": [
    {
     "name": "stderr",
     "output_type": "stream",
     "text": [
      "                                                                                \r"
     ]
    }
   ],
   "source": [
    "import os \n",
    "\n",
    "DATA_PATH = 's3://data-engg-suman/dataset/all-book-sataset/broadcast_logs/'\n",
    "\n",
    "logs = (spark\n",
    "            .read\n",
    "            .csv(os.path.join(DATA_PATH, 'BroadcastLogs_2018_Q3_M8_sample.CSV'), sep='|', header=True, inferSchema=True, timestampFormat='yyy-MM-dd')\n",
    "            )"
   ]
  },
  {
   "cell_type": "code",
   "execution_count": 6,
   "metadata": {},
   "outputs": [
    {
     "name": "stdout",
     "output_type": "stream",
     "text": [
      "+--------------+------------+-------------------+----------+-------------------+----------------------+----------+---------------+-----------------+----------------+---------------+------------------+--------------+--------------------+------------+----------------+----------------+-------------------+------------+--------------------+----------------+--------+--------------------+------------------+----------------------+-------------+---------+---------+---------+---------+\n",
      "|BroadcastLogID|LogServiceID|            LogDate|SequenceNO|AudienceTargetAgeID|AudienceTargetEthnicID|CategoryID|ClosedCaptionID|CountryOfOriginID|DubDramaCreditID|EthnicProgramID|ProductionSourceID|ProgramClassID|FilmClassificationID|ExhibitionID|        Duration|         EndTime|       LogEntryDate|ProductionNO|        ProgramTitle|       StartTime|Subtitle|NetworkAffiliationID|SpecialAttentionID|BroadcastOriginPointID|CompositionID|Producer1|Producer2|Language1|Language2|\n",
      "+--------------+------------+-------------------+----------+-------------------+----------------------+----------+---------------+-----------------+----------------+---------------+------------------+--------------+--------------------+------------+----------------+----------------+-------------------+------------+--------------------+----------------+--------+--------------------+------------------+----------------------+-------------+---------+---------+---------+---------+\n",
      "|    1196192316|        3157|2018-08-01 00:00:00|         1|                  4|                  null|        13|              3|                3|            null|           null|                10|            19|                null|           2|02:00:00.0000000|08:00:00.0000000|2018-08-01 00:00:00|      A39082|   Newlywed and Dead|06:00:00.0000000|    null|                null|              null|                  null|         null|     null|     null|       94|     null|\n",
      "|    1196192317|        3157|2018-08-01 00:00:00|         2|               null|                  null|      null|              1|             null|            null|           null|              null|            20|                null|        null|00:00:30.0000000|06:13:45.0000000|2018-08-01 00:00:00|        null|15-SPECIALTY CHAN...|06:13:15.0000000|    null|                null|              null|                  null|         null|     null|     null|     null|     null|\n",
      "|    1196192318|        3157|2018-08-01 00:00:00|         3|               null|                  null|      null|              1|             null|            null|           null|              null|             3|                null|        null|00:00:15.0000000|06:14:00.0000000|2018-08-01 00:00:00|        null|3-PROCTER & GAMBL...|06:13:45.0000000|    null|                null|              null|                  null|         null|     null|     null|     null|     null|\n",
      "|    1196192319|        3157|2018-08-01 00:00:00|         4|               null|                  null|      null|              1|             null|            null|           null|              null|             3|                null|        null|00:00:15.0000000|06:14:15.0000000|2018-08-01 00:00:00|        null|12-CREDIT KARMA-B...|06:14:00.0000000|    null|                null|              null|                  null|         null|     null|     null|     null|     null|\n",
      "|    1196192320|        3157|2018-08-01 00:00:00|         5|               null|                  null|      null|              1|             null|            null|           null|              null|             3|                null|        null|00:00:15.0000000|06:14:30.0000000|2018-08-01 00:00:00|        null|3-L'OREAL CANADA-...|06:14:15.0000000|    null|                null|              null|                  null|         null|     null|     null|     null|     null|\n",
      "+--------------+------------+-------------------+----------+-------------------+----------------------+----------+---------------+-----------------+----------------+---------------+------------------+--------------+--------------------+------------+----------------+----------------+-------------------+------------+--------------------+----------------+--------+--------------------+------------------+----------------------+-------------+---------+---------+---------+---------+\n",
      "only showing top 5 rows\n",
      "\n"
     ]
    }
   ],
   "source": [
    "logs.show(5)"
   ]
  },
  {
   "cell_type": "code",
   "execution_count": 7,
   "metadata": {},
   "outputs": [
    {
     "name": "stdout",
     "output_type": "stream",
     "text": [
      "root\n",
      " |-- BroadcastLogID: integer (nullable = true)\n",
      " |-- LogServiceID: integer (nullable = true)\n",
      " |-- LogDate: timestamp (nullable = true)\n",
      " |-- SequenceNO: integer (nullable = true)\n",
      " |-- AudienceTargetAgeID: integer (nullable = true)\n",
      " |-- AudienceTargetEthnicID: integer (nullable = true)\n",
      " |-- CategoryID: integer (nullable = true)\n",
      " |-- ClosedCaptionID: integer (nullable = true)\n",
      " |-- CountryOfOriginID: integer (nullable = true)\n",
      " |-- DubDramaCreditID: integer (nullable = true)\n",
      " |-- EthnicProgramID: integer (nullable = true)\n",
      " |-- ProductionSourceID: integer (nullable = true)\n",
      " |-- ProgramClassID: integer (nullable = true)\n",
      " |-- FilmClassificationID: integer (nullable = true)\n",
      " |-- ExhibitionID: integer (nullable = true)\n",
      " |-- Duration: string (nullable = true)\n",
      " |-- EndTime: string (nullable = true)\n",
      " |-- LogEntryDate: timestamp (nullable = true)\n",
      " |-- ProductionNO: string (nullable = true)\n",
      " |-- ProgramTitle: string (nullable = true)\n",
      " |-- StartTime: string (nullable = true)\n",
      " |-- Subtitle: string (nullable = true)\n",
      " |-- NetworkAffiliationID: integer (nullable = true)\n",
      " |-- SpecialAttentionID: integer (nullable = true)\n",
      " |-- BroadcastOriginPointID: integer (nullable = true)\n",
      " |-- CompositionID: integer (nullable = true)\n",
      " |-- Producer1: string (nullable = true)\n",
      " |-- Producer2: string (nullable = true)\n",
      " |-- Language1: integer (nullable = true)\n",
      " |-- Language2: integer (nullable = true)\n",
      "\n"
     ]
    }
   ],
   "source": [
    "logs.printSchema()"
   ]
  },
  {
   "cell_type": "code",
   "execution_count": 8,
   "metadata": {},
   "outputs": [
    {
     "name": "stdout",
     "output_type": "stream",
     "text": [
      "+--------------+------------+-------------------+\n",
      "|BroadcastLogID|LogServiceID|LogDate            |\n",
      "+--------------+------------+-------------------+\n",
      "|1196192316    |3157        |2018-08-01 00:00:00|\n",
      "|1196192317    |3157        |2018-08-01 00:00:00|\n",
      "|1196192318    |3157        |2018-08-01 00:00:00|\n",
      "|1196192319    |3157        |2018-08-01 00:00:00|\n",
      "|1196192320    |3157        |2018-08-01 00:00:00|\n",
      "+--------------+------------+-------------------+\n",
      "only showing top 5 rows\n",
      "\n"
     ]
    }
   ],
   "source": [
    "logs.select(F.col('BroadcastLogID'), F.col('LogServiceID'), F.col('LogDate')).show(5, False)"
   ]
  },
  {
   "cell_type": "code",
   "execution_count": 9,
   "metadata": {},
   "outputs": [
    {
     "name": "stdout",
     "output_type": "stream",
     "text": [
      "+--------------+------------+-------------------+\n",
      "|BroadcastLogID|LogServiceID|LogDate            |\n",
      "+--------------+------------+-------------------+\n",
      "|1196192316    |3157        |2018-08-01 00:00:00|\n",
      "|1196192317    |3157        |2018-08-01 00:00:00|\n",
      "|1196192318    |3157        |2018-08-01 00:00:00|\n",
      "|1196192319    |3157        |2018-08-01 00:00:00|\n",
      "|1196192320    |3157        |2018-08-01 00:00:00|\n",
      "+--------------+------------+-------------------+\n",
      "only showing top 5 rows\n",
      "\n"
     ]
    }
   ],
   "source": [
    "logs.select(['BroadcastLogID', 'LogServiceID', 'LogDate']).show(5, False)"
   ]
  },
  {
   "cell_type": "code",
   "execution_count": 21,
   "metadata": {},
   "outputs": [
    {
     "name": "stdout",
     "output_type": "stream",
     "text": [
      "+--------------+------------+-------------------+\n",
      "|BroadcastLogID|LogServiceID|LogDate            |\n",
      "+--------------+------------+-------------------+\n",
      "|1196192316    |3157        |2018-08-01 00:00:00|\n",
      "|1196192317    |3157        |2018-08-01 00:00:00|\n",
      "|1196192318    |3157        |2018-08-01 00:00:00|\n",
      "|1196192319    |3157        |2018-08-01 00:00:00|\n",
      "|1196192320    |3157        |2018-08-01 00:00:00|\n",
      "+--------------+------------+-------------------+\n",
      "only showing top 5 rows\n",
      "\n"
     ]
    },
    {
     "name": "stderr",
     "output_type": "stream",
     "text": [
      "                                                                                \r"
     ]
    }
   ],
   "source": [
    "logs.select('BroadcastLogID', 'LogServiceID', 'LogDate').show(5, False)"
   ]
  },
  {
   "cell_type": "code",
   "execution_count": 15,
   "metadata": {},
   "outputs": [],
   "source": [
    "import numpy as np \n",
    "\n",
    "column_split = np.array_split(np.array(logs.columns), len(logs.columns)//3)"
   ]
  },
  {
   "cell_type": "code",
   "execution_count": 17,
   "metadata": {},
   "outputs": [
    {
     "name": "stdout",
     "output_type": "stream",
     "text": [
      "+--------------+------------+-------------------+\n",
      "|BroadcastLogID|LogServiceID|LogDate            |\n",
      "+--------------+------------+-------------------+\n",
      "|1196192316    |3157        |2018-08-01 00:00:00|\n",
      "|1196192317    |3157        |2018-08-01 00:00:00|\n",
      "|1196192318    |3157        |2018-08-01 00:00:00|\n",
      "|1196192319    |3157        |2018-08-01 00:00:00|\n",
      "|1196192320    |3157        |2018-08-01 00:00:00|\n",
      "+--------------+------------+-------------------+\n",
      "only showing top 5 rows\n",
      "\n",
      "+----------+-------------------+----------------------+\n",
      "|SequenceNO|AudienceTargetAgeID|AudienceTargetEthnicID|\n",
      "+----------+-------------------+----------------------+\n",
      "|1         |4                  |null                  |\n",
      "|2         |null               |null                  |\n",
      "|3         |null               |null                  |\n",
      "|4         |null               |null                  |\n",
      "|5         |null               |null                  |\n",
      "+----------+-------------------+----------------------+\n",
      "only showing top 5 rows\n",
      "\n",
      "+----------+---------------+-----------------+\n",
      "|CategoryID|ClosedCaptionID|CountryOfOriginID|\n",
      "+----------+---------------+-----------------+\n",
      "|13        |3              |3                |\n",
      "|null      |1              |null             |\n",
      "|null      |1              |null             |\n",
      "|null      |1              |null             |\n",
      "|null      |1              |null             |\n",
      "+----------+---------------+-----------------+\n",
      "only showing top 5 rows\n",
      "\n",
      "+----------------+---------------+------------------+\n",
      "|DubDramaCreditID|EthnicProgramID|ProductionSourceID|\n",
      "+----------------+---------------+------------------+\n",
      "|null            |null           |10                |\n",
      "|null            |null           |null              |\n",
      "|null            |null           |null              |\n",
      "|null            |null           |null              |\n",
      "|null            |null           |null              |\n",
      "+----------------+---------------+------------------+\n",
      "only showing top 5 rows\n",
      "\n",
      "+--------------+--------------------+------------+\n",
      "|ProgramClassID|FilmClassificationID|ExhibitionID|\n",
      "+--------------+--------------------+------------+\n",
      "|19            |null                |2           |\n",
      "|20            |null                |null        |\n",
      "|3             |null                |null        |\n",
      "|3             |null                |null        |\n",
      "|3             |null                |null        |\n",
      "+--------------+--------------------+------------+\n",
      "only showing top 5 rows\n",
      "\n",
      "+----------------+----------------+-------------------+\n",
      "|Duration        |EndTime         |LogEntryDate       |\n",
      "+----------------+----------------+-------------------+\n",
      "|02:00:00.0000000|08:00:00.0000000|2018-08-01 00:00:00|\n",
      "|00:00:30.0000000|06:13:45.0000000|2018-08-01 00:00:00|\n",
      "|00:00:15.0000000|06:14:00.0000000|2018-08-01 00:00:00|\n",
      "|00:00:15.0000000|06:14:15.0000000|2018-08-01 00:00:00|\n",
      "|00:00:15.0000000|06:14:30.0000000|2018-08-01 00:00:00|\n",
      "+----------------+----------------+-------------------+\n",
      "only showing top 5 rows\n",
      "\n",
      "+------------+-------------------------------------------+----------------+\n",
      "|ProductionNO|ProgramTitle                               |StartTime       |\n",
      "+------------+-------------------------------------------+----------------+\n",
      "|A39082      |Newlywed and Dead                          |06:00:00.0000000|\n",
      "|null        |15-SPECIALTY CHANNELS-Canadian Generic     |06:13:15.0000000|\n",
      "|null        |3-PROCTER & GAMBLE INC-Anti-Perspirant 3rd |06:13:45.0000000|\n",
      "|null        |12-CREDIT KARMA-Bank/Credit Union/Trust 3rd|06:14:00.0000000|\n",
      "|null        |3-L'OREAL CANADA-Hair Products 3rd         |06:14:15.0000000|\n",
      "+------------+-------------------------------------------+----------------+\n",
      "only showing top 5 rows\n",
      "\n",
      "+--------+--------------------+------------------+\n",
      "|Subtitle|NetworkAffiliationID|SpecialAttentionID|\n",
      "+--------+--------------------+------------------+\n",
      "|null    |null                |null              |\n",
      "|null    |null                |null              |\n",
      "|null    |null                |null              |\n",
      "|null    |null                |null              |\n",
      "|null    |null                |null              |\n",
      "+--------+--------------------+------------------+\n",
      "only showing top 5 rows\n",
      "\n",
      "+----------------------+-------------+---------+\n",
      "|BroadcastOriginPointID|CompositionID|Producer1|\n",
      "+----------------------+-------------+---------+\n",
      "|null                  |null         |null     |\n",
      "|null                  |null         |null     |\n",
      "|null                  |null         |null     |\n",
      "|null                  |null         |null     |\n",
      "|null                  |null         |null     |\n",
      "+----------------------+-------------+---------+\n",
      "only showing top 5 rows\n",
      "\n",
      "+---------+---------+---------+\n",
      "|Producer2|Language1|Language2|\n",
      "+---------+---------+---------+\n",
      "|null     |94       |null     |\n",
      "|null     |null     |null     |\n",
      "|null     |null     |null     |\n",
      "|null     |null     |null     |\n",
      "|null     |null     |null     |\n",
      "+---------+---------+---------+\n",
      "only showing top 5 rows\n",
      "\n"
     ]
    }
   ],
   "source": [
    "for x in column_split:\n",
    "    logs.select(*x).show(5, False)"
   ]
  },
  {
   "attachments": {},
   "cell_type": "markdown",
   "metadata": {},
   "source": [
    "## Deleting columns"
   ]
  },
  {
   "cell_type": "code",
   "execution_count": 18,
   "metadata": {},
   "outputs": [],
   "source": [
    "logs_new = logs.drop(\"BroadcastLogID\", \"SequenceNO\")"
   ]
  },
  {
   "cell_type": "code",
   "execution_count": 20,
   "metadata": {},
   "outputs": [
    {
     "data": {
      "text/plain": [
       "(False, False)"
      ]
     },
     "execution_count": 20,
     "metadata": {},
     "output_type": "execute_result"
    }
   ],
   "source": [
    "\"BroadcastLogID\" in logs_new.columns, \"SequenceNO\" in logs_new.columns"
   ]
  },
  {
   "cell_type": "code",
   "execution_count": 21,
   "metadata": {},
   "outputs": [
    {
     "data": {
      "text/plain": [
       "(True, True)"
      ]
     },
     "execution_count": 21,
     "metadata": {},
     "output_type": "execute_result"
    }
   ],
   "source": [
    "\"BroadcastLogID\" in logs.columns, \"SequenceNO\" in logs.columns"
   ]
  },
  {
   "attachments": {},
   "cell_type": "markdown",
   "metadata": {},
   "source": [
    "## New columns with withColumn()"
   ]
  },
  {
   "cell_type": "code",
   "execution_count": 53,
   "metadata": {},
   "outputs": [
    {
     "name": "stdout",
     "output_type": "stream",
     "text": [
      "+----------------+\n",
      "|        Duration|\n",
      "+----------------+\n",
      "|02:00:00.0000000|\n",
      "|00:00:30.0000000|\n",
      "|00:00:15.0000000|\n",
      "+----------------+\n",
      "only showing top 3 rows\n",
      "\n"
     ]
    },
    {
     "data": {
      "text/plain": [
       "[('Duration', 'string')]"
      ]
     },
     "execution_count": 53,
     "metadata": {},
     "output_type": "execute_result"
    }
   ],
   "source": [
    "logs.select(F.col('Duration')).show(3)\n",
    "logs.select(F.col('Duration')).dtypes"
   ]
  },
  {
   "cell_type": "code",
   "execution_count": 54,
   "metadata": {},
   "outputs": [
    {
     "name": "stderr",
     "output_type": "stream",
     "text": [
      "[Stage 19:===========>                                              (1 + 4) / 5]\r"
     ]
    },
    {
     "name": "stdout",
     "output_type": "stream",
     "text": [
      "+----------------+---------+-----------+-----------+\n",
      "|        Duration|dur_hours|dur_minutes|dur_seconds|\n",
      "+----------------+---------+-----------+-----------+\n",
      "|00:04:52.0000000|        0|          4|         52|\n",
      "|00:09:52.0000000|        0|          9|         52|\n",
      "|01:34:00.0000000|        1|         34|          0|\n",
      "|01:59:57.0000000|        1|         59|         57|\n",
      "|00:38:10.0000000|        0|         38|         10|\n",
      "+----------------+---------+-----------+-----------+\n",
      "only showing top 5 rows\n",
      "\n"
     ]
    },
    {
     "name": "stderr",
     "output_type": "stream",
     "text": [
      "                                                                                \r"
     ]
    }
   ],
   "source": [
    "logs.select(\n",
    "        F.col(\"Duration\"),\n",
    "        F.col(\"Duration\").substr(1, 2).cast(\"int\").alias(\"dur_hours\"),\n",
    "        F.col(\"Duration\").substr(4, 2).cast(\"int\").alias(\"dur_minutes\"),\n",
    "        F.col(\"Duration\").substr(7, 2).cast(\"int\").alias(\"dur_seconds\"),\n",
    "        ).distinct().show(5)"
   ]
  },
  {
   "cell_type": "code",
   "execution_count": 65,
   "metadata": {},
   "outputs": [
    {
     "name": "stdout",
     "output_type": "stream",
     "text": [
      "root\n",
      " |-- BroadcastLogID: integer (nullable = true)\n",
      " |-- LogServiceID: integer (nullable = true)\n",
      " |-- LogDate: timestamp (nullable = true)\n",
      " |-- SequenceNO: integer (nullable = true)\n",
      " |-- AudienceTargetAgeID: integer (nullable = true)\n",
      " |-- AudienceTargetEthnicID: integer (nullable = true)\n",
      " |-- CategoryID: integer (nullable = true)\n",
      " |-- ClosedCaptionID: integer (nullable = true)\n",
      " |-- CountryOfOriginID: integer (nullable = true)\n",
      " |-- DubDramaCreditID: integer (nullable = true)\n",
      " |-- EthnicProgramID: integer (nullable = true)\n",
      " |-- ProductionSourceID: integer (nullable = true)\n",
      " |-- ProgramClassID: integer (nullable = true)\n",
      " |-- FilmClassificationID: integer (nullable = true)\n",
      " |-- ExhibitionID: integer (nullable = true)\n",
      " |-- Duration: string (nullable = true)\n",
      " |-- EndTime: string (nullable = true)\n",
      " |-- LogEntryDate: timestamp (nullable = true)\n",
      " |-- ProductionNO: string (nullable = true)\n",
      " |-- ProgramTitle: string (nullable = true)\n",
      " |-- StartTime: string (nullable = true)\n",
      " |-- Subtitle: string (nullable = true)\n",
      " |-- NetworkAffiliationID: integer (nullable = true)\n",
      " |-- SpecialAttentionID: integer (nullable = true)\n",
      " |-- BroadcastOriginPointID: integer (nullable = true)\n",
      " |-- CompositionID: integer (nullable = true)\n",
      " |-- Producer1: string (nullable = true)\n",
      " |-- Producer2: string (nullable = true)\n",
      " |-- Language1: integer (nullable = true)\n",
      " |-- Language2: integer (nullable = true)\n",
      " |-- Duration_seconds: integer (nullable = true)\n",
      "\n"
     ]
    }
   ],
   "source": [
    "logs = logs.withColumn('Duration_seconds',\n",
    "        (   F.col(\"Duration\").substr(1, 2).cast(\"int\") * 60 * 60 +\n",
    "            F.col(\"Duration\").substr(4, 2).cast(\"int\") * 60 +\n",
    "            F.col(\"Duration\").substr(7, 2).cast(\"int\")).alias('seconds'),\n",
    "        )\n",
    "\n",
    "logs.printSchema()\n",
    "\n"
   ]
  },
  {
   "cell_type": "code",
   "execution_count": 66,
   "metadata": {},
   "outputs": [
    {
     "name": "stderr",
     "output_type": "stream",
     "text": [
      "[Stage 35:==============================================>           (4 + 1) / 5]\r"
     ]
    },
    {
     "name": "stdout",
     "output_type": "stream",
     "text": [
      "+----------------+----------------+\n",
      "|        Duration|Duration_seconds|\n",
      "+----------------+----------------+\n",
      "|00:28:08.0000000|            1688|\n",
      "|00:32:00.0000000|            1920|\n",
      "|00:30:00.0000000|            1800|\n",
      "|00:01:39.0000000|              99|\n",
      "|00:29:50.0000000|            1790|\n",
      "+----------------+----------------+\n",
      "only showing top 5 rows\n",
      "\n"
     ]
    },
    {
     "name": "stderr",
     "output_type": "stream",
     "text": [
      "                                                                                \r"
     ]
    }
   ],
   "source": [
    "logs.select(\n",
    "        F.col(\"Duration\"),\n",
    "        F.col(\"Duration_seconds\")\n",
    "        ).distinct().show(5)"
   ]
  },
  {
   "cell_type": "markdown",
   "metadata": {},
   "source": [
    "## Renaming all columns in one go"
   ]
  },
  {
   "cell_type": "code",
   "execution_count": 69,
   "metadata": {},
   "outputs": [],
   "source": [
    "logs = logs.toDF(*[x.lower() for x in logs.columns])"
   ]
  },
  {
   "cell_type": "code",
   "execution_count": 70,
   "metadata": {},
   "outputs": [
    {
     "data": {
      "text/plain": [
       "['broadcastlogid',\n",
       " 'logserviceid',\n",
       " 'logdate',\n",
       " 'sequenceno',\n",
       " 'audiencetargetageid',\n",
       " 'audiencetargetethnicid',\n",
       " 'categoryid',\n",
       " 'closedcaptionid',\n",
       " 'countryoforiginid',\n",
       " 'dubdramacreditid',\n",
       " 'ethnicprogramid',\n",
       " 'productionsourceid',\n",
       " 'programclassid',\n",
       " 'filmclassificationid',\n",
       " 'exhibitionid',\n",
       " 'duration',\n",
       " 'endtime',\n",
       " 'logentrydate',\n",
       " 'productionno',\n",
       " 'programtitle',\n",
       " 'starttime',\n",
       " 'subtitle',\n",
       " 'networkaffiliationid',\n",
       " 'specialattentionid',\n",
       " 'broadcastoriginpointid',\n",
       " 'compositionid',\n",
       " 'producer1',\n",
       " 'producer2',\n",
       " 'language1',\n",
       " 'language2',\n",
       " 'duration_seconds']"
      ]
     },
     "execution_count": 70,
     "metadata": {},
     "output_type": "execute_result"
    }
   ],
   "source": [
    "logs.columns"
   ]
  },
  {
   "attachments": {},
   "cell_type": "markdown",
   "metadata": {},
   "source": [
    "## Reordering columns"
   ]
  },
  {
   "cell_type": "code",
   "execution_count": 71,
   "metadata": {},
   "outputs": [
    {
     "name": "stdout",
     "output_type": "stream",
     "text": [
      "root\n",
      " |-- audiencetargetageid: integer (nullable = true)\n",
      " |-- audiencetargetethnicid: integer (nullable = true)\n",
      " |-- broadcastlogid: integer (nullable = true)\n",
      " |-- broadcastoriginpointid: integer (nullable = true)\n",
      " |-- categoryid: integer (nullable = true)\n",
      " |-- closedcaptionid: integer (nullable = true)\n",
      " |-- compositionid: integer (nullable = true)\n",
      " |-- countryoforiginid: integer (nullable = true)\n",
      " |-- dubdramacreditid: integer (nullable = true)\n",
      " |-- duration: string (nullable = true)\n",
      " |-- duration_seconds: integer (nullable = true)\n",
      " |-- endtime: string (nullable = true)\n",
      " |-- ethnicprogramid: integer (nullable = true)\n",
      " |-- exhibitionid: integer (nullable = true)\n",
      " |-- filmclassificationid: integer (nullable = true)\n",
      " |-- language1: integer (nullable = true)\n",
      " |-- language2: integer (nullable = true)\n",
      " |-- logdate: timestamp (nullable = true)\n",
      " |-- logentrydate: timestamp (nullable = true)\n",
      " |-- logserviceid: integer (nullable = true)\n",
      " |-- networkaffiliationid: integer (nullable = true)\n",
      " |-- producer1: string (nullable = true)\n",
      " |-- producer2: string (nullable = true)\n",
      " |-- productionno: string (nullable = true)\n",
      " |-- productionsourceid: integer (nullable = true)\n",
      " |-- programclassid: integer (nullable = true)\n",
      " |-- programtitle: string (nullable = true)\n",
      " |-- sequenceno: integer (nullable = true)\n",
      " |-- specialattentionid: integer (nullable = true)\n",
      " |-- starttime: string (nullable = true)\n",
      " |-- subtitle: string (nullable = true)\n",
      "\n"
     ]
    }
   ],
   "source": [
    "logs.select(sorted(logs.columns)).printSchema()"
   ]
  },
  {
   "attachments": {},
   "cell_type": "markdown",
   "metadata": {},
   "source": [
    "## Diagnosing a data frame"
   ]
  },
  {
   "cell_type": "code",
   "execution_count": 72,
   "metadata": {},
   "outputs": [
    {
     "name": "stderr",
     "output_type": "stream",
     "text": [
      "                                                                                \r"
     ]
    },
    {
     "name": "stdout",
     "output_type": "stream",
     "text": [
      "+-------+--------------------+\n",
      "|summary|      broadcastlogid|\n",
      "+-------+--------------------+\n",
      "|  count|              238945|\n",
      "|   mean|1.2168651122760174E9|\n",
      "| stddev|1.4969134241430923E7|\n",
      "|    min|          1195788151|\n",
      "|    max|          1249431576|\n",
      "+-------+--------------------+\n",
      "\n"
     ]
    },
    {
     "name": "stderr",
     "output_type": "stream",
     "text": [
      "                                                                                \r"
     ]
    },
    {
     "name": "stdout",
     "output_type": "stream",
     "text": [
      "+-------+------------------+\n",
      "|summary|      logserviceid|\n",
      "+-------+------------------+\n",
      "|  count|            238945|\n",
      "|   mean| 3450.890284375065|\n",
      "| stddev|199.50673962555322|\n",
      "|    min|              3157|\n",
      "|    max|              3925|\n",
      "+-------+------------------+\n",
      "\n",
      "+-------+\n",
      "|summary|\n",
      "+-------+\n",
      "|  count|\n",
      "|   mean|\n",
      "| stddev|\n",
      "|    min|\n",
      "|    max|\n",
      "+-------+\n",
      "\n"
     ]
    },
    {
     "name": "stderr",
     "output_type": "stream",
     "text": [
      "                                                                                \r"
     ]
    },
    {
     "name": "stdout",
     "output_type": "stream",
     "text": [
      "+-------+-----------------+\n",
      "|summary|       sequenceno|\n",
      "+-------+-----------------+\n",
      "|  count|           238945|\n",
      "|   mean|466.3855824562138|\n",
      "| stddev|311.5109104839795|\n",
      "|    min|                1|\n",
      "|    max|             1463|\n",
      "+-------+-----------------+\n",
      "\n"
     ]
    },
    {
     "name": "stderr",
     "output_type": "stream",
     "text": [
      "                                                                                \r"
     ]
    },
    {
     "name": "stdout",
     "output_type": "stream",
     "text": [
      "+-------+-------------------+\n",
      "|summary|audiencetargetageid|\n",
      "+-------+-------------------+\n",
      "|  count|              16112|\n",
      "|   mean| 3.4929245283018866|\n",
      "| stddev| 1.0415963394745127|\n",
      "|    min|                  1|\n",
      "|    max|                  4|\n",
      "+-------+-------------------+\n",
      "\n"
     ]
    },
    {
     "name": "stderr",
     "output_type": "stream",
     "text": [
      "                                                                                \r"
     ]
    },
    {
     "name": "stdout",
     "output_type": "stream",
     "text": [
      "+-------+----------------------+\n",
      "|summary|audiencetargetethnicid|\n",
      "+-------+----------------------+\n",
      "|  count|                  1710|\n",
      "|   mean|    120.56432748538012|\n",
      "| stddev|     71.98694059436131|\n",
      "|    min|                     4|\n",
      "|    max|                   337|\n",
      "+-------+----------------------+\n",
      "\n"
     ]
    },
    {
     "name": "stderr",
     "output_type": "stream",
     "text": [
      "                                                                                \r"
     ]
    },
    {
     "name": "stdout",
     "output_type": "stream",
     "text": [
      "+-------+------------------+\n",
      "|summary|        categoryid|\n",
      "+-------+------------------+\n",
      "|  count|             25506|\n",
      "|   mean|18.485297577040697|\n",
      "| stddev| 9.655852252020846|\n",
      "|    min|                 1|\n",
      "|    max|                29|\n",
      "+-------+------------------+\n",
      "\n"
     ]
    },
    {
     "name": "stderr",
     "output_type": "stream",
     "text": [
      "                                                                                \r"
     ]
    },
    {
     "name": "stdout",
     "output_type": "stream",
     "text": [
      "+-------+-------------------+\n",
      "|summary|    closedcaptionid|\n",
      "+-------+-------------------+\n",
      "|  count|             224117|\n",
      "|   mean| 1.0316174141185184|\n",
      "| stddev|0.24947032900378938|\n",
      "|    min|                  1|\n",
      "|    max|                  3|\n",
      "+-------+-------------------+\n",
      "\n"
     ]
    },
    {
     "name": "stderr",
     "output_type": "stream",
     "text": [
      "                                                                                \r"
     ]
    },
    {
     "name": "stdout",
     "output_type": "stream",
     "text": [
      "+-------+------------------+\n",
      "|summary| countryoforiginid|\n",
      "+-------+------------------+\n",
      "|  count|             17822|\n",
      "|   mean|  4.06390977443609|\n",
      "| stddev|2.6159675821007307|\n",
      "|    min|                 2|\n",
      "|    max|                11|\n",
      "+-------+------------------+\n",
      "\n"
     ]
    },
    {
     "name": "stderr",
     "output_type": "stream",
     "text": [
      "                                                                                \r"
     ]
    },
    {
     "name": "stdout",
     "output_type": "stream",
     "text": [
      "+-------+------------------+\n",
      "|summary|  dubdramacreditid|\n",
      "+-------+------------------+\n",
      "|  count|               263|\n",
      "|   mean|5.1254752851711025|\n",
      "| stddev|3.4513297114385635|\n",
      "|    min|                 1|\n",
      "|    max|                10|\n",
      "+-------+------------------+\n",
      "\n"
     ]
    },
    {
     "name": "stderr",
     "output_type": "stream",
     "text": [
      "                                                                                \r"
     ]
    },
    {
     "name": "stdout",
     "output_type": "stream",
     "text": [
      "+-------+------------------+\n",
      "|summary|   ethnicprogramid|\n",
      "+-------+------------------+\n",
      "|  count|              1895|\n",
      "|   mean| 4.316622691292876|\n",
      "| stddev|2.2966421456800292|\n",
      "|    min|                 1|\n",
      "|    max|                 6|\n",
      "+-------+------------------+\n",
      "\n"
     ]
    },
    {
     "name": "stderr",
     "output_type": "stream",
     "text": [
      "                                                                                \r"
     ]
    },
    {
     "name": "stdout",
     "output_type": "stream",
     "text": [
      "+-------+------------------+\n",
      "|summary|productionsourceid|\n",
      "+-------+------------------+\n",
      "|  count|             16223|\n",
      "|   mean|11.193737286568453|\n",
      "| stddev|6.0790222393313345|\n",
      "|    min|                 1|\n",
      "|    max|                19|\n",
      "+-------+------------------+\n",
      "\n"
     ]
    },
    {
     "name": "stderr",
     "output_type": "stream",
     "text": [
      "                                                                                \r"
     ]
    },
    {
     "name": "stdout",
     "output_type": "stream",
     "text": [
      "+-------+----------------+\n",
      "|summary|  programclassid|\n",
      "+-------+----------------+\n",
      "|  count|          238945|\n",
      "|   mean|8.49341061750612|\n",
      "| stddev|7.90211684690576|\n",
      "|    min|               3|\n",
      "|    max|              30|\n",
      "+-------+----------------+\n",
      "\n"
     ]
    },
    {
     "name": "stderr",
     "output_type": "stream",
     "text": [
      "                                                                                \r"
     ]
    },
    {
     "name": "stdout",
     "output_type": "stream",
     "text": [
      "+-------+--------------------+\n",
      "|summary|filmclassificationid|\n",
      "+-------+--------------------+\n",
      "|  count|                1885|\n",
      "|   mean|   1.953315649867374|\n",
      "| stddev|  1.6420515263133841|\n",
      "|    min|                   1|\n",
      "|    max|                   8|\n",
      "+-------+--------------------+\n",
      "\n"
     ]
    },
    {
     "name": "stderr",
     "output_type": "stream",
     "text": [
      "                                                                                \r"
     ]
    },
    {
     "name": "stdout",
     "output_type": "stream",
     "text": [
      "+-------+------------------+\n",
      "|summary|      exhibitionid|\n",
      "+-------+------------------+\n",
      "|  count|              9263|\n",
      "|   mean|  4.52067364784627|\n",
      "| stddev|1.4418772626833436|\n",
      "|    min|                 1|\n",
      "|    max|                 8|\n",
      "+-------+------------------+\n",
      "\n"
     ]
    },
    {
     "name": "stderr",
     "output_type": "stream",
     "text": [
      "                                                                                \r"
     ]
    },
    {
     "name": "stdout",
     "output_type": "stream",
     "text": [
      "+-------+----------------+\n",
      "|summary|        duration|\n",
      "+-------+----------------+\n",
      "|  count|          236724|\n",
      "|   mean|            null|\n",
      "| stddev|            null|\n",
      "|    min|00:00:01.0000000|\n",
      "|    max|06:30:09.0000000|\n",
      "+-------+----------------+\n",
      "\n"
     ]
    },
    {
     "name": "stderr",
     "output_type": "stream",
     "text": [
      "                                                                                \r"
     ]
    },
    {
     "name": "stdout",
     "output_type": "stream",
     "text": [
      "+-------+----------------+\n",
      "|summary|         endtime|\n",
      "+-------+----------------+\n",
      "|  count|          169979|\n",
      "|   mean|            null|\n",
      "| stddev|            null|\n",
      "|    min|00:00:00.0000000|\n",
      "|    max|23:59:59.0000000|\n",
      "+-------+----------------+\n",
      "\n",
      "+-------+\n",
      "|summary|\n",
      "+-------+\n",
      "|  count|\n",
      "|   mean|\n",
      "| stddev|\n",
      "|    min|\n",
      "|    max|\n",
      "+-------+\n",
      "\n"
     ]
    },
    {
     "name": "stderr",
     "output_type": "stream",
     "text": [
      "                                                                                \r"
     ]
    },
    {
     "name": "stdout",
     "output_type": "stream",
     "text": [
      "+-------+------------------+\n",
      "|summary|      productionno|\n",
      "+-------+------------------+\n",
      "|  count|              3519|\n",
      "|   mean| 35710.61538461538|\n",
      "| stddev|3749.1340008607654|\n",
      "|    min|            030641|\n",
      "|    max|            c34183|\n",
      "+-------+------------------+\n",
      "\n"
     ]
    },
    {
     "name": "stderr",
     "output_type": "stream",
     "text": [
      "                                                                                \r"
     ]
    },
    {
     "name": "stdout",
     "output_type": "stream",
     "text": [
      "+-------+------------------+\n",
      "|summary|      programtitle|\n",
      "+-------+------------------+\n",
      "|  count|            238703|\n",
      "|   mean|            1999.0|\n",
      "| stddev|              null|\n",
      "|    min|  !NO 5PM A ID(:5)|\n",
      "|    max|�t� avec Jo�l 2/Un|\n",
      "+-------+------------------+\n",
      "\n"
     ]
    },
    {
     "name": "stderr",
     "output_type": "stream",
     "text": [
      "                                                                                \r"
     ]
    },
    {
     "name": "stdout",
     "output_type": "stream",
     "text": [
      "+-------+----------------+\n",
      "|summary|       starttime|\n",
      "+-------+----------------+\n",
      "|  count|          238945|\n",
      "|   mean|            null|\n",
      "| stddev|            null|\n",
      "|    min|00:00:00.0000000|\n",
      "|    max|23:59:59.0000000|\n",
      "+-------+----------------+\n",
      "\n"
     ]
    },
    {
     "name": "stderr",
     "output_type": "stream",
     "text": [
      "                                                                                \r"
     ]
    },
    {
     "name": "stdout",
     "output_type": "stream",
     "text": [
      "+-------+--------------------+\n",
      "|summary|            subtitle|\n",
      "+-------+--------------------+\n",
      "|  count|               15468|\n",
      "|   mean|   3463.573913043478|\n",
      "| stddev|  16251.272419144225|\n",
      "|    min|                #001|\n",
      "|    max|�tre dans le trou...|\n",
      "+-------+--------------------+\n",
      "\n"
     ]
    },
    {
     "name": "stderr",
     "output_type": "stream",
     "text": [
      "                                                                                \r"
     ]
    },
    {
     "name": "stdout",
     "output_type": "stream",
     "text": [
      "+-------+--------------------+\n",
      "|summary|networkaffiliationid|\n",
      "+-------+--------------------+\n",
      "|  count|              108807|\n",
      "|   mean|   6.082200593711802|\n",
      "| stddev|   2.990848675228531|\n",
      "|    min|                   1|\n",
      "|    max|                   9|\n",
      "+-------+--------------------+\n",
      "\n"
     ]
    },
    {
     "name": "stderr",
     "output_type": "stream",
     "text": [
      "                                                                                \r"
     ]
    },
    {
     "name": "stdout",
     "output_type": "stream",
     "text": [
      "+-------+------------------+\n",
      "|summary|specialattentionid|\n",
      "+-------+------------------+\n",
      "|  count|              2395|\n",
      "|   mean| 1.704384133611691|\n",
      "| stddev|0.5394635034869686|\n",
      "|    min|                 1|\n",
      "|    max|                 3|\n",
      "+-------+------------------+\n",
      "\n"
     ]
    },
    {
     "name": "stderr",
     "output_type": "stream",
     "text": [
      "                                                                                \r"
     ]
    },
    {
     "name": "stdout",
     "output_type": "stream",
     "text": [
      "+-------+----------------------+\n",
      "|summary|broadcastoriginpointid|\n",
      "+-------+----------------------+\n",
      "|  count|                  9978|\n",
      "|   mean|    2.1390058127881337|\n",
      "| stddev|    0.9323192037553317|\n",
      "|    min|                     1|\n",
      "|    max|                     3|\n",
      "+-------+----------------------+\n",
      "\n"
     ]
    },
    {
     "name": "stderr",
     "output_type": "stream",
     "text": [
      "                                                                                \r"
     ]
    },
    {
     "name": "stdout",
     "output_type": "stream",
     "text": [
      "+-------+------------------+\n",
      "|summary|     compositionid|\n",
      "+-------+------------------+\n",
      "|  count|              9978|\n",
      "|   mean|3.4141110442974543|\n",
      "| stddev| 0.933860340365462|\n",
      "|    min|                 1|\n",
      "|    max|                 4|\n",
      "+-------+------------------+\n",
      "\n"
     ]
    },
    {
     "name": "stderr",
     "output_type": "stream",
     "text": [
      "                                                                                \r"
     ]
    },
    {
     "name": "stdout",
     "output_type": "stream",
     "text": [
      "+-------+---------+\n",
      "|summary|producer1|\n",
      "+-------+---------+\n",
      "|  count|     2607|\n",
      "|   mean|     null|\n",
      "| stddev|     null|\n",
      "|    min|      AMI|\n",
      "|    max|   VISION|\n",
      "+-------+---------+\n",
      "\n"
     ]
    },
    {
     "name": "stderr",
     "output_type": "stream",
     "text": [
      "                                                                                \r"
     ]
    },
    {
     "name": "stdout",
     "output_type": "stream",
     "text": [
      "+-------+---------+\n",
      "|summary|producer2|\n",
      "+-------+---------+\n",
      "|  count|       38|\n",
      "|   mean|     null|\n",
      "| stddev|     null|\n",
      "|    min|    NEWSW|\n",
      "|    max|       QC|\n",
      "+-------+---------+\n",
      "\n"
     ]
    },
    {
     "name": "stderr",
     "output_type": "stream",
     "text": [
      "                                                                                \r"
     ]
    },
    {
     "name": "stdout",
     "output_type": "stream",
     "text": [
      "+-------+------------------+\n",
      "|summary|         language1|\n",
      "+-------+------------------+\n",
      "|  count|             12586|\n",
      "|   mean|101.75377403464167|\n",
      "| stddev|45.684036854682155|\n",
      "|    min|                94|\n",
      "|    max|               437|\n",
      "+-------+------------------+\n",
      "\n"
     ]
    },
    {
     "name": "stderr",
     "output_type": "stream",
     "text": [
      "                                                                                \r"
     ]
    },
    {
     "name": "stdout",
     "output_type": "stream",
     "text": [
      "+-------+------------------+\n",
      "|summary|         language2|\n",
      "+-------+------------------+\n",
      "|  count|              2629|\n",
      "|   mean|175.49334347660707|\n",
      "| stddev|  86.0360379288395|\n",
      "|    min|                 3|\n",
      "|    max|               438|\n",
      "+-------+------------------+\n",
      "\n"
     ]
    },
    {
     "name": "stderr",
     "output_type": "stream",
     "text": [
      "[Stage 122:===========>                                             (1 + 4) / 5]\r"
     ]
    },
    {
     "name": "stdout",
     "output_type": "stream",
     "text": [
      "+-------+------------------+\n",
      "|summary|  duration_seconds|\n",
      "+-------+------------------+\n",
      "|  count|            236724|\n",
      "|   mean|124.30587942076004|\n",
      "| stddev| 573.7742807594921|\n",
      "|    min|                 1|\n",
      "|    max|             23409|\n",
      "+-------+------------------+\n",
      "\n"
     ]
    },
    {
     "name": "stderr",
     "output_type": "stream",
     "text": [
      "                                                                                \r"
     ]
    }
   ],
   "source": [
    "for i in logs.columns:\n",
    "    logs.describe(i).show()"
   ]
  },
  {
   "cell_type": "code",
   "execution_count": 75,
   "metadata": {},
   "outputs": [
    {
     "name": "stderr",
     "output_type": "stream",
     "text": [
      "[Stage 131:===========>                                             (1 + 4) / 5]\r"
     ]
    },
    {
     "name": "stdout",
     "output_type": "stream",
     "text": [
      "+-------+----------------+\n",
      "|summary|duration_seconds|\n",
      "+-------+----------------+\n",
      "|  count|          236724|\n",
      "|    min|               1|\n",
      "|    25%|              15|\n",
      "|    75%|              30|\n",
      "|    max|           23409|\n",
      "+-------+----------------+\n",
      "\n"
     ]
    },
    {
     "name": "stderr",
     "output_type": "stream",
     "text": [
      "                                                                                \r"
     ]
    }
   ],
   "source": [
    "logs.select('duration_seconds').summary(\"count\", \"min\", \"25%\", \"75%\", \"max\").show()"
   ]
  },
  {
   "cell_type": "markdown",
   "metadata": {},
   "source": [
    "## Exercise 4.3"
   ]
  },
  {
   "cell_type": "raw",
   "metadata": {},
   "source": [
    "Reread the data in a logs_raw data frame (the data file is ./data/broadcast_logs-\n",
    "BroadcastLogs_2018_Q3_M8.CSV), this time without passing any optional parameters.\n",
    "Print the first five rows of data, as well as the schema. What are the differences in\n",
    "terms of data and schema between logs and logs_raw?"
   ]
  },
  {
   "cell_type": "code",
   "execution_count": 76,
   "metadata": {},
   "outputs": [
    {
     "name": "stderr",
     "output_type": "stream",
     "text": [
      "                                                                                \r"
     ]
    }
   ],
   "source": [
    "import os \n",
    "\n",
    "DATA_PATH = 's3://data-engg-suman/dataset/all-book-sataset/broadcast_logs/'\n",
    "\n",
    "logs = (spark\n",
    "            .read\n",
    "            .csv(os.path.join(DATA_PATH, 'BroadcastLogs_2018_Q3_M8_sample.CSV'), sep='|', header=True, inferSchema=True, timestampFormat='yyy-MM-dd')\n",
    "            )"
   ]
  },
  {
   "cell_type": "code",
   "execution_count": 77,
   "metadata": {},
   "outputs": [],
   "source": [
    "logs2 = (spark\n",
    "            .read\n",
    "            .csv(os.path.join(DATA_PATH, 'BroadcastLogs_2018_Q3_M8_sample.CSV'))\n",
    "            )"
   ]
  },
  {
   "cell_type": "code",
   "execution_count": 79,
   "metadata": {},
   "outputs": [
    {
     "name": "stdout",
     "output_type": "stream",
     "text": [
      "root\n",
      " |-- BroadcastLogID: integer (nullable = true)\n",
      " |-- LogServiceID: integer (nullable = true)\n",
      " |-- LogDate: timestamp (nullable = true)\n",
      " |-- SequenceNO: integer (nullable = true)\n",
      " |-- AudienceTargetAgeID: integer (nullable = true)\n",
      " |-- AudienceTargetEthnicID: integer (nullable = true)\n",
      " |-- CategoryID: integer (nullable = true)\n",
      " |-- ClosedCaptionID: integer (nullable = true)\n",
      " |-- CountryOfOriginID: integer (nullable = true)\n",
      " |-- DubDramaCreditID: integer (nullable = true)\n",
      " |-- EthnicProgramID: integer (nullable = true)\n",
      " |-- ProductionSourceID: integer (nullable = true)\n",
      " |-- ProgramClassID: integer (nullable = true)\n",
      " |-- FilmClassificationID: integer (nullable = true)\n",
      " |-- ExhibitionID: integer (nullable = true)\n",
      " |-- Duration: string (nullable = true)\n",
      " |-- EndTime: string (nullable = true)\n",
      " |-- LogEntryDate: timestamp (nullable = true)\n",
      " |-- ProductionNO: string (nullable = true)\n",
      " |-- ProgramTitle: string (nullable = true)\n",
      " |-- StartTime: string (nullable = true)\n",
      " |-- Subtitle: string (nullable = true)\n",
      " |-- NetworkAffiliationID: integer (nullable = true)\n",
      " |-- SpecialAttentionID: integer (nullable = true)\n",
      " |-- BroadcastOriginPointID: integer (nullable = true)\n",
      " |-- CompositionID: integer (nullable = true)\n",
      " |-- Producer1: string (nullable = true)\n",
      " |-- Producer2: string (nullable = true)\n",
      " |-- Language1: integer (nullable = true)\n",
      " |-- Language2: integer (nullable = true)\n",
      "\n"
     ]
    }
   ],
   "source": [
    "logs.printSchema()"
   ]
  },
  {
   "cell_type": "code",
   "execution_count": 80,
   "metadata": {},
   "outputs": [
    {
     "name": "stdout",
     "output_type": "stream",
     "text": [
      "root\n",
      " |-- _c0: string (nullable = true)\n",
      "\n"
     ]
    }
   ],
   "source": [
    "logs2.printSchema()"
   ]
  },
  {
   "cell_type": "code",
   "execution_count": 82,
   "metadata": {},
   "outputs": [
    {
     "name": "stdout",
     "output_type": "stream",
     "text": [
      "+-------------------------------------------------------------------------------------------------------------------------------------------------------------------------------------------------------------------------------------------------------------------------------------------------------------------------------------------------------------------------------------------------------------------------------------------+\n",
      "|_c0                                                                                                                                                                                                                                                                                                                                                                                                                                        |\n",
      "+-------------------------------------------------------------------------------------------------------------------------------------------------------------------------------------------------------------------------------------------------------------------------------------------------------------------------------------------------------------------------------------------------------------------------------------------+\n",
      "|BroadcastLogID|LogServiceID|LogDate|SequenceNO|AudienceTargetAgeID|AudienceTargetEthnicID|CategoryID|ClosedCaptionID|CountryOfOriginID|DubDramaCreditID|EthnicProgramID|ProductionSourceID|ProgramClassID|FilmClassificationID|ExhibitionID|Duration|EndTime|LogEntryDate|ProductionNO|ProgramTitle|StartTime|Subtitle|NetworkAffiliationID|SpecialAttentionID|BroadcastOriginPointID|CompositionID|Producer1|Producer2|Language1|Language2|\n",
      "|1196192316|3157|2018-08-01|1|4||13|3|3|||10|19||2|02:00:00.0000000|08:00:00.0000000|2018-08-01|A39082|Newlywed and Dead|06:00:00.0000000||||||||94|                                                                                                                                                                                                                                                                                        |\n",
      "+-------------------------------------------------------------------------------------------------------------------------------------------------------------------------------------------------------------------------------------------------------------------------------------------------------------------------------------------------------------------------------------------------------------------------------------------+\n",
      "only showing top 2 rows\n",
      "\n"
     ]
    }
   ],
   "source": [
    "logs2.show(2, truncate=False)"
   ]
  },
  {
   "cell_type": "markdown",
   "metadata": {},
   "source": [
    "## Exercise 4.4"
   ]
  },
  {
   "attachments": {},
   "cell_type": "raw",
   "metadata": {},
   "source": [
    "Create a new data frame, logs_clean, that contains only the columns that do not\n",
    "end with ID."
   ]
  },
  {
   "cell_type": "code",
   "execution_count": 83,
   "metadata": {},
   "outputs": [
    {
     "name": "stderr",
     "output_type": "stream",
     "text": [
      "                                                                                \r"
     ]
    }
   ],
   "source": [
    "import os \n",
    "\n",
    "DATA_PATH = 's3://data-engg-suman/dataset/all-book-sataset/broadcast_logs/'\n",
    "\n",
    "logs = (spark\n",
    "            .read\n",
    "            .csv(os.path.join(DATA_PATH, 'BroadcastLogs_2018_Q3_M8_sample.CSV'), sep='|', header=True, inferSchema=True, timestampFormat='yyy-MM-dd')\n",
    "            )\n"
   ]
  },
  {
   "cell_type": "code",
   "execution_count": 115,
   "metadata": {},
   "outputs": [
    {
     "data": {
      "text/plain": [
       "['LogDate',\n",
       " 'SequenceNO',\n",
       " 'Duration',\n",
       " 'EndTime',\n",
       " 'LogEntryDate',\n",
       " 'ProductionNO',\n",
       " 'ProgramTitle',\n",
       " 'StartTime',\n",
       " 'Subtitle',\n",
       " 'Producer1',\n",
       " 'Producer2',\n",
       " 'Language1',\n",
       " 'Language2']"
      ]
     },
     "execution_count": 115,
     "metadata": {},
     "output_type": "execute_result"
    }
   ],
   "source": [
    "cols_needed = list(filter(lambda x: x if not x.lower().endswith('id') else None, logs.columns))\n",
    "cols_needed"
   ]
  },
  {
   "cell_type": "code",
   "execution_count": 116,
   "metadata": {},
   "outputs": [],
   "source": [
    "logs_clean = logs.select(cols_needed)"
   ]
  },
  {
   "cell_type": "code",
   "execution_count": 117,
   "metadata": {},
   "outputs": [
    {
     "name": "stdout",
     "output_type": "stream",
     "text": [
      "root\n",
      " |-- LogDate: timestamp (nullable = true)\n",
      " |-- SequenceNO: integer (nullable = true)\n",
      " |-- Duration: string (nullable = true)\n",
      " |-- EndTime: string (nullable = true)\n",
      " |-- LogEntryDate: timestamp (nullable = true)\n",
      " |-- ProductionNO: string (nullable = true)\n",
      " |-- ProgramTitle: string (nullable = true)\n",
      " |-- StartTime: string (nullable = true)\n",
      " |-- Subtitle: string (nullable = true)\n",
      " |-- Producer1: string (nullable = true)\n",
      " |-- Producer2: string (nullable = true)\n",
      " |-- Language1: integer (nullable = true)\n",
      " |-- Language2: integer (nullable = true)\n",
      "\n"
     ]
    }
   ],
   "source": [
    "logs_clean.printSchema()"
   ]
  },
  {
   "cell_type": "code",
   "execution_count": 118,
   "metadata": {},
   "outputs": [],
   "source": [
    "logs_clean2 = logs.select(*[x for x in logs.columns if not x.endswith(\"ID\")])"
   ]
  },
  {
   "cell_type": "code",
   "execution_count": 119,
   "metadata": {},
   "outputs": [
    {
     "name": "stdout",
     "output_type": "stream",
     "text": [
      "root\n",
      " |-- LogDate: timestamp (nullable = true)\n",
      " |-- SequenceNO: integer (nullable = true)\n",
      " |-- Duration: string (nullable = true)\n",
      " |-- EndTime: string (nullable = true)\n",
      " |-- LogEntryDate: timestamp (nullable = true)\n",
      " |-- ProductionNO: string (nullable = true)\n",
      " |-- ProgramTitle: string (nullable = true)\n",
      " |-- StartTime: string (nullable = true)\n",
      " |-- Subtitle: string (nullable = true)\n",
      " |-- Producer1: string (nullable = true)\n",
      " |-- Producer2: string (nullable = true)\n",
      " |-- Language1: integer (nullable = true)\n",
      " |-- Language2: integer (nullable = true)\n",
      "\n"
     ]
    }
   ],
   "source": [
    "logs_clean2.printSchema()"
   ]
  },
  {
   "cell_type": "code",
   "execution_count": null,
   "metadata": {},
   "outputs": [],
   "source": []
  }
 ],
 "metadata": {
  "kernelspec": {
   "display_name": "Python 3",
   "language": "python",
   "name": "python3"
  },
  "language_info": {
   "codemirror_mode": {
    "name": "ipython",
    "version": 3
   },
   "file_extension": ".py",
   "mimetype": "text/x-python",
   "name": "python",
   "nbconvert_exporter": "python",
   "pygments_lexer": "ipython3",
   "version": "3.7.15"
  },
  "orig_nbformat": 4,
  "vscode": {
   "interpreter": {
    "hash": "31f2aee4e71d21fbe5cf8b01ff0e069b9275f58929596ceb00d14d90e3e16cd6"
   }
  }
 },
 "nbformat": 4,
 "nbformat_minor": 2
}
