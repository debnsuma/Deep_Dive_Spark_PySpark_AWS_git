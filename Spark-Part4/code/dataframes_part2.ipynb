{
 "cells": [
  {
   "attachments": {},
   "cell_type": "markdown",
   "metadata": {},
   "source": [
    "# Create spark session"
   ]
  },
  {
   "cell_type": "code",
   "execution_count": 18,
   "metadata": {},
   "outputs": [],
   "source": [
    "from pyspark import SparkConf\n",
    "from pyspark.sql import SparkSession\n",
    "from pyspark.sql.types import StructField, StructType, IntegerType, StringType, FloatType, DateType\n",
    "from pyspark.sql import functions as F\n",
    "\n",
    "my_conf = SparkConf()\n",
    "my_conf.set(\"spark.app.name\", \"My Application\")\n",
    "my_conf.set(\"spark.ui.port\", \"4050\")\n",
    "\n",
    "spark = SparkSession \\\n",
    "            .builder \\\n",
    "            .config(conf=my_conf) \\\n",
    "            .getOrCreate()\n",
    "\n",
    "spark.sparkContext.setLogLevel(\"ERROR\")"
   ]
  },
  {
   "attachments": {},
   "cell_type": "markdown",
   "metadata": {},
   "source": [
    "## 1. Create a Python List as a dataset"
   ]
  },
  {
   "cell_type": "code",
   "execution_count": 3,
   "metadata": {},
   "outputs": [],
   "source": [
    "# Load the data in a Python List \n",
    "\n",
    "sample_data = [(1,\"2013-07-25\",11599,\"CLOSED\"),\n",
    "(2,\"2013-07-25\",256,\"PENDING_PAYMENT\"),\n",
    "(3,\"2013-07-25\",11599,\"COMPLETE\"),\n",
    "(4,\"2013-07-25\",8827,\"CLOSED\")]"
   ]
  },
  {
   "attachments": {},
   "cell_type": "markdown",
   "metadata": {},
   "source": [
    "## 2 . Create a DF with column names "
   ]
  },
  {
   "cell_type": "code",
   "execution_count": 15,
   "metadata": {},
   "outputs": [],
   "source": [
    "# Create a DF from this List \n",
    "\n",
    "df = spark.createDataFrame(sample_data, ['order_id', \"order_date\", \"customer_id\", \"order_status\"])\n",
    "\n",
    "# One more alternate way \n",
    "# df = spark.createDataFrame(sample_data).toDF('order_id', \"order_date\", \"customer_id\", \"order_status\")"
   ]
  },
  {
   "cell_type": "code",
   "execution_count": 16,
   "metadata": {},
   "outputs": [
    {
     "name": "stdout",
     "output_type": "stream",
     "text": [
      "+--------+----------+-----------+---------------+\n",
      "|order_id|order_date|customer_id|   order_status|\n",
      "+--------+----------+-----------+---------------+\n",
      "|       1|2013-07-25|      11599|         CLOSED|\n",
      "|       2|2013-07-25|        256|PENDING_PAYMENT|\n",
      "|       3|2013-07-25|      11599|       COMPLETE|\n",
      "|       4|2013-07-25|       8827|         CLOSED|\n",
      "+--------+----------+-----------+---------------+\n",
      "\n"
     ]
    }
   ],
   "source": [
    "df.show()"
   ]
  },
  {
   "cell_type": "code",
   "execution_count": 17,
   "metadata": {},
   "outputs": [
    {
     "name": "stdout",
     "output_type": "stream",
     "text": [
      "root\n",
      " |-- order_id: long (nullable = true)\n",
      " |-- order_date: string (nullable = true)\n",
      " |-- customer_id: long (nullable = true)\n",
      " |-- order_status: string (nullable = true)\n",
      "\n"
     ]
    }
   ],
   "source": [
    "df.printSchema()"
   ]
  },
  {
   "attachments": {},
   "cell_type": "markdown",
   "metadata": {},
   "source": [
    "## 3. Convert the time stamp "
   ]
  },
  {
   "cell_type": "code",
   "execution_count": 21,
   "metadata": {},
   "outputs": [],
   "source": [
    "from datetime import date, datetime\n"
   ]
  },
  {
   "cell_type": "code",
   "execution_count": 36,
   "metadata": {},
   "outputs": [
    {
     "name": "stdout",
     "output_type": "stream",
     "text": [
      "+--------+----------+-----------+---------------+\n",
      "|order_id|order_date|customer_id|   order_status|\n",
      "+--------+----------+-----------+---------------+\n",
      "|       1|      null|      11599|         CLOSED|\n",
      "|       2|      null|        256|PENDING_PAYMENT|\n",
      "|       3|      null|      11599|       COMPLETE|\n",
      "|       4|      null|       8827|         CLOSED|\n",
      "+--------+----------+-----------+---------------+\n",
      "\n"
     ]
    }
   ],
   "source": [
    "new_df = df.withColumn(\n",
    "    'order_date', F.unix_timestamp(df.order_date))\n",
    "\n",
    "new_df.show()"
   ]
  },
  {
   "attachments": {},
   "cell_type": "markdown",
   "metadata": {},
   "source": [
    "## 4. Adding a new column, dropping duplicate, droping `order_id` and sorting by `order_date`"
   ]
  },
  {
   "cell_type": "code",
   "execution_count": 49,
   "metadata": {},
   "outputs": [
    {
     "name": "stdout",
     "output_type": "stream",
     "text": [
      "+----------+-----------+---------------+--------------+-----------+\n",
      "|order_date|customer_id|   order_status|order_date_new|  unique_id|\n",
      "+----------+-----------+---------------+--------------+-----------+\n",
      "|2013-07-25|        256|PENDING_PAYMENT|    1374710400|17179869184|\n",
      "|2013-07-25|       8827|         CLOSED|    1374710400|34359738368|\n",
      "|2013-07-25|      11599|         CLOSED|    1374710400| 8589934592|\n",
      "+----------+-----------+---------------+--------------+-----------+\n",
      "\n"
     ]
    }
   ],
   "source": [
    "new_df = df \\\n",
    "            .withColumn('order_date_new', F.unix_timestamp(F.col('order_date'),'yyyy-MM-dd')) \\\n",
    "            .withColumn('unique_id', F.monotonically_increasing_id()) \\\n",
    "            .drop_duplicates(['order_date', 'customer_id']) \\\n",
    "            .drop('order_id') \\\n",
    "            .sort('order_date')\n",
    "\n",
    "\n",
    "new_df.show()"
   ]
  },
  {
   "cell_type": "code",
   "execution_count": 40,
   "metadata": {},
   "outputs": [
    {
     "name": "stdout",
     "output_type": "stream",
     "text": [
      "+--------+----------+-----------+---------------+\n",
      "|order_id|order_date|customer_id|   order_status|\n",
      "+--------+----------+-----------+---------------+\n",
      "|       1|2013-07-25|      11599|         CLOSED|\n",
      "|       2|2013-07-25|        256|PENDING_PAYMENT|\n",
      "|       3|2013-07-25|      11599|       COMPLETE|\n",
      "|       4|2013-07-25|       8827|         CLOSED|\n",
      "+--------+----------+-----------+---------------+\n",
      "\n"
     ]
    }
   ],
   "source": [
    "df.show()"
   ]
  },
  {
   "attachments": {},
   "cell_type": "markdown",
   "metadata": {},
   "source": [
    "# Aggregation "
   ]
  },
  {
   "attachments": {},
   "cell_type": "markdown",
   "metadata": {},
   "source": [
    "## 1. Simple Aggregation"
   ]
  },
  {
   "cell_type": "code",
   "execution_count": 50,
   "metadata": {},
   "outputs": [],
   "source": [
    "from pyspark import SparkConf\n",
    "from pyspark.sql import SparkSession\n",
    "from pyspark.sql.types import StructField, StructType, IntegerType, StringType, FloatType, DateType\n",
    "from pyspark.sql import functions as F\n",
    "\n",
    "my_conf = SparkConf()\n",
    "my_conf.set(\"spark.app.name\", \"My Application\")\n",
    "my_conf.set(\"spark.ui.port\", \"4050\")\n",
    "\n",
    "spark = SparkSession \\\n",
    "            .builder \\\n",
    "            .config(conf=my_conf) \\\n",
    "            .getOrCreate()\n",
    "\n",
    "spark.sparkContext.setLogLevel(\"ERROR\")"
   ]
  },
  {
   "cell_type": "code",
   "execution_count": 51,
   "metadata": {},
   "outputs": [],
   "source": [
    "# Read the data from the CSV \n",
    "DATASET_PATH = \"s3://data-engg-suman/dataset/order_data.csv\""
   ]
  },
  {
   "cell_type": "code",
   "execution_count": 52,
   "metadata": {},
   "outputs": [
    {
     "name": "stderr",
     "output_type": "stream",
     "text": [
      "                                                                                \r"
     ]
    }
   ],
   "source": [
    "df = spark \\\n",
    "        .read \\\n",
    "        .format('csv') \\\n",
    "        .option('header', True) \\\n",
    "        .option('inferSchema', True) \\\n",
    "        .option('path', DATASET_PATH) \\\n",
    "        .load()"
   ]
  },
  {
   "cell_type": "code",
   "execution_count": 54,
   "metadata": {},
   "outputs": [
    {
     "name": "stdout",
     "output_type": "stream",
     "text": [
      "+---------+---------+--------------------+--------+---------------+---------+----------+--------------+\n",
      "|InvoiceNo|StockCode|         Description|Quantity|    InvoiceDate|UnitPrice|CustomerID|       Country|\n",
      "+---------+---------+--------------------+--------+---------------+---------+----------+--------------+\n",
      "|   536378|     null|PACK OF 60 DINOSA...|      24|01-12-2010 9.37|     0.55|     14688|United Kingdom|\n",
      "|   536378|     null|PACK OF 60 PINK P...|      24|01-12-2010 9.37|     0.55|     14688|United Kingdom|\n",
      "|   536378|    84991|60 TEATIME FAIRY ...|      24|01-12-2010 9.37|     0.55|     14688|United Kingdom|\n",
      "|   536378|   84519A|TOMATO CHARLIE+LO...|       6|01-12-2010 9.37|     2.95|     14688|United Kingdom|\n",
      "+---------+---------+--------------------+--------+---------------+---------+----------+--------------+\n",
      "only showing top 4 rows\n",
      "\n"
     ]
    }
   ],
   "source": [
    "df.show(4)"
   ]
  },
  {
   "cell_type": "code",
   "execution_count": 65,
   "metadata": {},
   "outputs": [
    {
     "name": "stderr",
     "output_type": "stream",
     "text": [
      "[Stage 60:=======================>                                  (2 + 3) / 5]\r"
     ]
    },
    {
     "name": "stdout",
     "output_type": "stream",
     "text": [
      "+---------+--------------+---------------+----------------+\n",
      "|row_count|total_quantity| avg_unit_price|distinct_invoice|\n",
      "+---------+--------------+---------------+----------------+\n",
      "|   541782|       5175855|4.6115653233219|           25858|\n",
      "+---------+--------------+---------------+----------------+\n",
      "\n"
     ]
    },
    {
     "name": "stderr",
     "output_type": "stream",
     "text": [
      "                                                                                \r"
     ]
    }
   ],
   "source": [
    "# Using Column Object \n",
    "\n",
    "df.select(F.count('*').alias('row_count'), \\\n",
    "        F.sum('Quantity').alias('total_quantity'), \\\n",
    "        F.avg('UnitPrice').alias('avg_unit_price'), \\\n",
    "        F.countDistinct('InvoiceNo').alias('distinct_invoice') \\\n",
    "    ).show()"
   ]
  },
  {
   "cell_type": "code",
   "execution_count": 72,
   "metadata": {},
   "outputs": [
    {
     "name": "stderr",
     "output_type": "stream",
     "text": [
      "[Stage 84:==============================================>           (4 + 1) / 5]\r"
     ]
    },
    {
     "name": "stdout",
     "output_type": "stream",
     "text": [
      "+---------+--------------+---------------+----------------+\n",
      "|row_count|total_quantity| avg_unit_price|distinct_invoice|\n",
      "+---------+--------------+---------------+----------------+\n",
      "|   541782|       5175855|4.6115653233219|           25858|\n",
      "+---------+--------------+---------------+----------------+\n",
      "\n"
     ]
    },
    {
     "name": "stderr",
     "output_type": "stream",
     "text": [
      "                                                                                \r"
     ]
    }
   ],
   "source": [
    "# Using Spark SQL\n",
    "\n",
    "df.createOrReplaceTempView('sales')\n",
    "\n",
    "spark.sql('SELECT COUNT(*) AS row_count, \\\n",
    "                  SUM(Quantity) AS total_quantity, \\\n",
    "                  AVG(UnitPrice) AS avg_unit_price, \\\n",
    "                  COUNT(DISTINCT InvoiceNo) AS distinct_invoice\\\n",
    "            FROM sales').show()"
   ]
  },
  {
   "cell_type": "markdown",
   "metadata": {},
   "source": [
    "## 2. Grouping Aggregation"
   ]
  },
  {
   "cell_type": "code",
   "execution_count": 73,
   "metadata": {},
   "outputs": [
    {
     "name": "stdout",
     "output_type": "stream",
     "text": [
      "+---------+---------+--------------------+--------+---------------+---------+----------+--------------+\n",
      "|InvoiceNo|StockCode|         Description|Quantity|    InvoiceDate|UnitPrice|CustomerID|       Country|\n",
      "+---------+---------+--------------------+--------+---------------+---------+----------+--------------+\n",
      "|   536378|     null|PACK OF 60 DINOSA...|      24|01-12-2010 9.37|     0.55|     14688|United Kingdom|\n",
      "|   536378|     null|PACK OF 60 PINK P...|      24|01-12-2010 9.37|     0.55|     14688|United Kingdom|\n",
      "|   536378|    84991|60 TEATIME FAIRY ...|      24|01-12-2010 9.37|     0.55|     14688|United Kingdom|\n",
      "|   536378|   84519A|TOMATO CHARLIE+LO...|       6|01-12-2010 9.37|     2.95|     14688|United Kingdom|\n",
      "|   536378|   85183B|CHARLIE & LOLA WA...|      48|01-12-2010 9.37|     1.25|     14688|United Kingdom|\n",
      "+---------+---------+--------------------+--------+---------------+---------+----------+--------------+\n",
      "only showing top 5 rows\n",
      "\n"
     ]
    }
   ],
   "source": [
    "df.show(5)"
   ]
  },
  {
   "cell_type": "code",
   "execution_count": 86,
   "metadata": {},
   "outputs": [
    {
     "name": "stderr",
     "output_type": "stream",
     "text": [
      "[Stage 106:===========>                                             (1 + 4) / 5]\r"
     ]
    },
    {
     "name": "stdout",
     "output_type": "stream",
     "text": [
      "+--------------+---------+--------------+------------------+\n",
      "|       Country|InvoiceNo|Total_Quantity|      InvoiceValue|\n",
      "+--------------+---------+--------------+------------------+\n",
      "|United Kingdom|   536508|           216|            155.52|\n",
      "|        Cyprus|   544574|           173|            320.69|\n",
      "|United Kingdom|   546372|            88|349.20000000000005|\n",
      "|United Kingdom|   536627|            64|306.20000000000005|\n",
      "|United Kingdom|   537224|           700|1415.9700000000003|\n",
      "|        Israel|  C539037|           -56|           -227.44|\n",
      "|United Kingdom|   540945|             1|              0.85|\n",
      "|United Kingdom|   546318|           100|254.99999999999997|\n",
      "|United Kingdom|   537855|            95|263.24999999999994|\n",
      "|United Kingdom|   538090|          -723|               0.0|\n",
      "|United Kingdom|   539040|            43|            171.05|\n",
      "|United Kingdom|   540465|            78|              83.7|\n",
      "|         Spain|   540785|          1008|           3417.12|\n",
      "|United Kingdom|  C541831|            -1|             -4.95|\n",
      "|United Kingdom|  C545834|            -1|             -2.95|\n",
      "|United Kingdom|   542552|            -1|               0.0|\n",
      "|United Kingdom|   543040|           703|1026.7200000000007|\n",
      "|United Kingdom|   538799|           225| 706.2500000000002|\n",
      "|United Kingdom|  C539073|            -1|              -3.5|\n",
      "|United Kingdom|   536663|           156|299.40000000000003|\n",
      "+--------------+---------+--------------+------------------+\n",
      "only showing top 20 rows\n",
      "\n"
     ]
    },
    {
     "name": "stderr",
     "output_type": "stream",
     "text": [
      "                                                                                \r"
     ]
    }
   ],
   "source": [
    "# Group the data based on Country and Invoice Number and we need the total quantity per country (using Column Object Exression)\n",
    "\n",
    "df.groupBy(['Country', 'InvoiceNo']) \\\n",
    "    .agg(F.sum('Quantity').alias('Total_Quantity'), \\\n",
    "         F.sum(F.col('Quantity') * F.col('UnitPrice')).alias('InvoiceValue')) \\\n",
    "    .show()"
   ]
  },
  {
   "cell_type": "code",
   "execution_count": 82,
   "metadata": {},
   "outputs": [
    {
     "name": "stdout",
     "output_type": "stream",
     "text": [
      "root\n",
      " |-- InvoiceNo: string (nullable = true)\n",
      " |-- StockCode: string (nullable = true)\n",
      " |-- Description: string (nullable = true)\n",
      " |-- Quantity: integer (nullable = true)\n",
      " |-- InvoiceDate: string (nullable = true)\n",
      " |-- UnitPrice: double (nullable = true)\n",
      " |-- CustomerID: integer (nullable = true)\n",
      " |-- Country: string (nullable = true)\n",
      "\n"
     ]
    }
   ],
   "source": [
    "df.printSchema()"
   ]
  },
  {
   "cell_type": "code",
   "execution_count": 90,
   "metadata": {},
   "outputs": [
    {
     "name": "stderr",
     "output_type": "stream",
     "text": [
      "[Stage 110:=============================================>           (4 + 1) / 5]\r"
     ]
    },
    {
     "name": "stdout",
     "output_type": "stream",
     "text": [
      "+--------------+---------+--------------+------------------+\n",
      "|       Country|InvoiceNo|Total_Quantity|      InvoiceValue|\n",
      "+--------------+---------+--------------+------------------+\n",
      "|United Kingdom|   536508|           216|            155.52|\n",
      "|        Cyprus|   544574|           173|            320.69|\n",
      "|United Kingdom|   546372|            88|349.20000000000005|\n",
      "|United Kingdom|   536627|            64|306.20000000000005|\n",
      "|United Kingdom|   537224|           700|1415.9700000000003|\n",
      "|        Israel|  C539037|           -56|           -227.44|\n",
      "|United Kingdom|   540945|             1|              0.85|\n",
      "|United Kingdom|   546318|           100|254.99999999999997|\n",
      "|United Kingdom|   537855|            95|263.24999999999994|\n",
      "|United Kingdom|   538090|          -723|               0.0|\n",
      "|United Kingdom|   539040|            43|            171.05|\n",
      "|United Kingdom|   540465|            78|              83.7|\n",
      "|         Spain|   540785|          1008|           3417.12|\n",
      "|United Kingdom|  C541831|            -1|             -4.95|\n",
      "|United Kingdom|  C545834|            -1|             -2.95|\n",
      "|United Kingdom|   542552|            -1|               0.0|\n",
      "|United Kingdom|   543040|           703|1026.7200000000007|\n",
      "|United Kingdom|   538799|           225| 706.2500000000002|\n",
      "|United Kingdom|  C539073|            -1|              -3.5|\n",
      "|United Kingdom|   536663|           156|299.40000000000003|\n",
      "+--------------+---------+--------------+------------------+\n",
      "only showing top 20 rows\n",
      "\n"
     ]
    },
    {
     "name": "stderr",
     "output_type": "stream",
     "text": [
      "                                                                                \r"
     ]
    }
   ],
   "source": [
    "# Using Spark SQL \n",
    "\n",
    "df.createGlobalTempView('sales')\n",
    "\n",
    "spark.sql('select Country,InvoiceNo, SUM(Quantity) as Total_Quantity, SUM(Quantity * UnitPrice) as InvoiceValue from sales GROUP BY Country,InvoiceNo').show()"
   ]
  },
  {
   "attachments": {},
   "cell_type": "markdown",
   "metadata": {},
   "source": [
    "## 3. Window Aggregations "
   ]
  },
  {
   "cell_type": "code",
   "execution_count": 91,
   "metadata": {},
   "outputs": [],
   "source": [
    "# Read the data from the CSV \n",
    "DATASET_PATH = \"s3://data-engg-suman/dataset/windowdata.csv\"\n",
    "\n",
    "df = spark \\\n",
    "        .read \\\n",
    "        .format('csv') \\\n",
    "        .option('header', False) \\\n",
    "        .option('inferSchema', True) \\\n",
    "        .option('path', DATASET_PATH) \\\n",
    "        .load()"
   ]
  },
  {
   "cell_type": "code",
   "execution_count": 95,
   "metadata": {},
   "outputs": [],
   "source": [
    "df1 = df.toDF('country', 'weeknum', 'numinvoices', 'totalquantity', 'invoicevalue')"
   ]
  },
  {
   "cell_type": "code",
   "execution_count": 100,
   "metadata": {},
   "outputs": [
    {
     "name": "stdout",
     "output_type": "stream",
     "text": [
      "+-------+-------+-----------+-------------+------------+\n",
      "|country|weeknum|numinvoices|totalquantity|invoicevalue|\n",
      "+-------+-------+-----------+-------------+------------+\n",
      "|  Spain|     49|          1|           67|      174.72|\n",
      "|Germany|     48|         11|         1795|     3309.75|\n",
      "+-------+-------+-----------+-------------+------------+\n",
      "only showing top 2 rows\n",
      "\n"
     ]
    }
   ],
   "source": [
    "df1.show(2)"
   ]
  },
  {
   "cell_type": "code",
   "execution_count": 101,
   "metadata": {},
   "outputs": [
    {
     "name": "stdout",
     "output_type": "stream",
     "text": [
      "+---------------+-------+-----------+-------------+------------+------------------+\n",
      "|        country|weeknum|numinvoices|totalquantity|invoicevalue|    Running_amount|\n",
      "+---------------+-------+-----------+-------------+------------+------------------+\n",
      "|      Australia|     48|          1|          107|      358.25|            358.25|\n",
      "|      Australia|     49|          1|          214|       258.9|            617.15|\n",
      "|      Australia|     50|          2|          133|      387.95|1005.0999999999999|\n",
      "|        Austria|     50|          2|            3|      257.04|            257.04|\n",
      "|        Bahrain|     51|          1|           54|      205.74|            205.74|\n",
      "|        Belgium|     48|          1|          528|       346.1|             346.1|\n",
      "|        Belgium|     50|          2|          285|      625.16|            971.26|\n",
      "|        Belgium|     51|          2|          942|      838.65|1809.9099999999999|\n",
      "|Channel Islands|     49|          1|           80|      363.53|            363.53|\n",
      "|         Cyprus|     50|          1|          917|     1590.82|           1590.82|\n",
      "|        Denmark|     49|          1|          454|      1281.5|            1281.5|\n",
      "|        Finland|     50|          1|         1254|       892.8|             892.8|\n",
      "|         France|     48|          4|         1299|     2808.16|           2808.16|\n",
      "|         France|     49|          9|         2303|     4527.01|           7335.17|\n",
      "|         France|     50|          6|          529|      537.32|           7872.49|\n",
      "|         France|     51|          5|          847|     1702.87|           9575.36|\n",
      "|        Germany|     48|         11|         1795|     3309.75|           3309.75|\n",
      "|        Germany|     49|         12|         1852|     4521.39|           7831.14|\n",
      "|        Germany|     50|         15|         1973|     5065.79|          12896.93|\n",
      "|        Germany|     51|          5|         1103|     1665.91|          14562.84|\n",
      "+---------------+-------+-----------+-------------+------------+------------------+\n",
      "only showing top 20 rows\n",
      "\n"
     ]
    }
   ],
   "source": [
    "from pyspark.sql import Window\n",
    "\n",
    "mywindow = Window.partitionBy('country') \\\n",
    "                 .orderBy('weeknum') \\\n",
    "                 .rowsBetween(Window.unboundedPreceding, Window.currentRow)\n",
    "\n",
    "final_df = df1.withColumn('Running_amount', F.sum('invoicevalue').over(mywindow))\n",
    "final_df.show()"
   ]
  },
  {
   "attachments": {},
   "cell_type": "markdown",
   "metadata": {},
   "source": [
    "# JOIN Operations"
   ]
  },
  {
   "cell_type": "code",
   "execution_count": 134,
   "metadata": {},
   "outputs": [],
   "source": [
    "spark.stop()"
   ]
  },
  {
   "cell_type": "code",
   "execution_count": 136,
   "metadata": {},
   "outputs": [],
   "source": [
    "my_conf = SparkConf()\n",
    "my_conf.set(\"spark.app.name\", \"My Application\")\n",
    "my_conf.set(\"spark.ui.port\", \"4051\")\n",
    "\n",
    "spark = SparkSession \\\n",
    "            .builder \\\n",
    "            .config(conf=my_conf) \\\n",
    "            .getOrCreate()\n",
    "\n",
    "spark.sparkContext.setLogLevel(\"ERROR\")"
   ]
  },
  {
   "cell_type": "code",
   "execution_count": 137,
   "metadata": {},
   "outputs": [],
   "source": [
    "# Read the data from the CSV \n",
    "DATASET_PATH = \"s3://data-engg-suman/dataset/customers.csv\"\n",
    "\n",
    "df_customers = spark \\\n",
    "        .read \\\n",
    "        .format('csv') \\\n",
    "        .option('header', True) \\\n",
    "        .option('inferSchema', True) \\\n",
    "        .option('path', DATASET_PATH) \\\n",
    "        .load()"
   ]
  },
  {
   "cell_type": "code",
   "execution_count": 138,
   "metadata": {},
   "outputs": [],
   "source": [
    "# Read the data from the CSV \n",
    "DATASET_PATH = \"s3://data-engg-suman/dataset/orders.csv\"\n",
    "\n",
    "df_orders = spark \\\n",
    "        .read \\\n",
    "        .format('csv') \\\n",
    "        .option('header', True) \\\n",
    "        .option('inferSchema', True) \\\n",
    "        .option('path', DATASET_PATH) \\\n",
    "        .load()"
   ]
  },
  {
   "cell_type": "code",
   "execution_count": 139,
   "metadata": {},
   "outputs": [
    {
     "name": "stdout",
     "output_type": "stream",
     "text": [
      "+-----------+--------------+--------------+--------------+-----------------+--------------------+-------------+--------------+----------------+\n",
      "|customer_id|customer_fname|customer_lname|customer_email|customer_password|     customer_street|customer_city|customer_state|customer_zipcode|\n",
      "+-----------+--------------+--------------+--------------+-----------------+--------------------+-------------+--------------+----------------+\n",
      "|          1|       Richard|     Hernandez|     XXXXXXXXX|        XXXXXXXXX|  6303 Heather Plaza|  Brownsville|            TX|           78521|\n",
      "|          2|          Mary|       Barrett|     XXXXXXXXX|        XXXXXXXXX|9526 Noble Embers...|    Littleton|            CO|           80126|\n",
      "|          3|           Ann|         Smith|     XXXXXXXXX|        XXXXXXXXX|3422 Blue Pioneer...|       Caguas|            PR|             725|\n",
      "+-----------+--------------+--------------+--------------+-----------------+--------------------+-------------+--------------+----------------+\n",
      "only showing top 3 rows\n",
      "\n"
     ]
    }
   ],
   "source": [
    "df_customers.show(3)"
   ]
  },
  {
   "cell_type": "code",
   "execution_count": 140,
   "metadata": {},
   "outputs": [
    {
     "name": "stdout",
     "output_type": "stream",
     "text": [
      "+--------+-------------------+-----------------+---------------+\n",
      "|order_id|         order_date|order_customer_id|   order_status|\n",
      "+--------+-------------------+-----------------+---------------+\n",
      "|       1|2013-07-25 00:00:00|            11599|         CLOSED|\n",
      "|       2|2013-07-25 00:00:00|              256|PENDING_PAYMENT|\n",
      "|       3|2013-07-25 00:00:00|            12111|       COMPLETE|\n",
      "+--------+-------------------+-----------------+---------------+\n",
      "only showing top 3 rows\n",
      "\n"
     ]
    }
   ],
   "source": [
    "df_orders.show(3)"
   ]
  },
  {
   "cell_type": "code",
   "execution_count": 147,
   "metadata": {},
   "outputs": [],
   "source": [
    "joining_condition = df_customers.customer_id == df_orders.order_customer_id\n",
    "joined_df = df_orders.join(df_customers, joining_condition, 'inner')"
   ]
  },
  {
   "cell_type": "code",
   "execution_count": 148,
   "metadata": {},
   "outputs": [
    {
     "name": "stderr",
     "output_type": "stream",
     "text": [
      "                                                                                \r"
     ]
    },
    {
     "name": "stdout",
     "output_type": "stream",
     "text": [
      "+--------+-------------------+-----------------+---------------+-----------+--------------+--------------+--------------+-----------------+--------------------+-------------+--------------+----------------+\n",
      "|order_id|         order_date|order_customer_id|   order_status|customer_id|customer_fname|customer_lname|customer_email|customer_password|     customer_street|customer_city|customer_state|customer_zipcode|\n",
      "+--------+-------------------+-----------------+---------------+-----------+--------------+--------------+--------------+-----------------+--------------------+-------------+--------------+----------------+\n",
      "|       1|2013-07-25 00:00:00|            11599|         CLOSED|      11599|          Mary|        Malone|     XXXXXXXXX|        XXXXXXXXX|8708 Indian Horse...|      Hickory|            NC|           28601|\n",
      "|       2|2013-07-25 00:00:00|              256|PENDING_PAYMENT|        256|         David|     Rodriguez|     XXXXXXXXX|        XXXXXXXXX|7605 Tawny Horse ...|      Chicago|            IL|           60625|\n",
      "|       3|2013-07-25 00:00:00|            12111|       COMPLETE|      12111|         Amber|        Franco|     XXXXXXXXX|        XXXXXXXXX|8766 Clear Prairi...|   Santa Cruz|            CA|           95060|\n",
      "+--------+-------------------+-----------------+---------------+-----------+--------------+--------------+--------------+-----------------+--------------------+-------------+--------------+----------------+\n",
      "only showing top 3 rows\n",
      "\n"
     ]
    },
    {
     "name": "stderr",
     "output_type": "stream",
     "text": [
      "                                                                                \r"
     ]
    }
   ],
   "source": [
    "joined_df.show(3)"
   ]
  },
  {
   "cell_type": "code",
   "execution_count": 144,
   "metadata": {},
   "outputs": [
    {
     "name": "stderr",
     "output_type": "stream",
     "text": [
      "[Stage 13:>                 (0 + 1) / 1][Stage 14:>                 (0 + 1) / 1]\r"
     ]
    },
    {
     "name": "stdout",
     "output_type": "stream",
     "text": [
      "+--------+-------------------+-----------------+---------------+-----------+--------------+--------------+--------------+-----------------+--------------------+-------------+--------------+----------------+\n",
      "|order_id|         order_date|order_customer_id|   order_status|customer_id|customer_fname|customer_lname|customer_email|customer_password|     customer_street|customer_city|customer_state|customer_zipcode|\n",
      "+--------+-------------------+-----------------+---------------+-----------+--------------+--------------+--------------+-----------------+--------------------+-------------+--------------+----------------+\n",
      "|   68884|               null|             null|       COMPLETE|       null|          null|          null|          null|             null|                null|         null|          null|            null|\n",
      "|      -1|               null|             null|           null|          1|       Richard|     Hernandez|     XXXXXXXXX|        XXXXXXXXX|  6303 Heather Plaza|  Brownsville|            TX|           78521|\n",
      "|   22646|2013-12-11 00:00:00|                3|       COMPLETE|          3|           Ann|         Smith|     XXXXXXXXX|        XXXXXXXXX|3422 Blue Pioneer...|       Caguas|            PR|             725|\n",
      "|   23662|2013-12-19 00:00:00|                3|       COMPLETE|          3|           Ann|         Smith|     XXXXXXXXX|        XXXXXXXXX|3422 Blue Pioneer...|       Caguas|            PR|             725|\n",
      "|   35158|2014-02-26 00:00:00|                3|       COMPLETE|          3|           Ann|         Smith|     XXXXXXXXX|        XXXXXXXXX|3422 Blue Pioneer...|       Caguas|            PR|             725|\n",
      "|   46399|2014-05-09 00:00:00|                3|     PROCESSING|          3|           Ann|         Smith|     XXXXXXXXX|        XXXXXXXXX|3422 Blue Pioneer...|       Caguas|            PR|             725|\n",
      "|   56178|2014-07-15 00:00:00|                3|        PENDING|          3|           Ann|         Smith|     XXXXXXXXX|        XXXXXXXXX|3422 Blue Pioneer...|       Caguas|            PR|             725|\n",
      "|   57617|2014-07-24 00:00:00|                3|       COMPLETE|          3|           Ann|         Smith|     XXXXXXXXX|        XXXXXXXXX|3422 Blue Pioneer...|       Caguas|            PR|             725|\n",
      "|   61453|2013-12-14 00:00:00|                3|       COMPLETE|          3|           Ann|         Smith|     XXXXXXXXX|        XXXXXXXXX|3422 Blue Pioneer...|       Caguas|            PR|             725|\n",
      "|    9023|2013-09-19 00:00:00|                4|       COMPLETE|          4|          Mary|         Jones|     XXXXXXXXX|        XXXXXXXXX|  8324 Little Common|   San Marcos|            CA|           92069|\n",
      "|    9704|2013-09-24 00:00:00|                4|       COMPLETE|          4|          Mary|         Jones|     XXXXXXXXX|        XXXXXXXXX|  8324 Little Common|   San Marcos|            CA|           92069|\n",
      "|   17253|2013-11-09 00:00:00|                4|PENDING_PAYMENT|          4|          Mary|         Jones|     XXXXXXXXX|        XXXXXXXXX|  8324 Little Common|   San Marcos|            CA|           92069|\n",
      "|   37878|2014-03-15 00:00:00|                4|       COMPLETE|          4|          Mary|         Jones|     XXXXXXXXX|        XXXXXXXXX|  8324 Little Common|   San Marcos|            CA|           92069|\n",
      "|   49339|2014-05-28 00:00:00|                4|       COMPLETE|          4|          Mary|         Jones|     XXXXXXXXX|        XXXXXXXXX|  8324 Little Common|   San Marcos|            CA|           92069|\n",
      "|   51157|2014-06-10 00:00:00|                4|         CLOSED|          4|          Mary|         Jones|     XXXXXXXXX|        XXXXXXXXX|  8324 Little Common|   San Marcos|            CA|           92069|\n",
      "|   22457|2013-12-10 00:00:00|                6|PENDING_PAYMENT|          6|          Mary|         Smith|     XXXXXXXXX|        XXXXXXXXX|3151 Sleepy Quail...|      Passaic|            NJ|            7055|\n",
      "|   32895|2014-02-13 00:00:00|                6|PENDING_PAYMENT|          6|          Mary|         Smith|     XXXXXXXXX|        XXXXXXXXX|3151 Sleepy Quail...|      Passaic|            NJ|            7055|\n",
      "|    7688|2013-09-10 00:00:00|                8|     PROCESSING|          8|         Megan|         Smith|     XXXXXXXXX|        XXXXXXXXX|3047 Foggy Forest...|     Lawrence|            MA|            1841|\n",
      "|    8497|2013-09-16 00:00:00|                8|         CLOSED|          8|         Megan|         Smith|     XXXXXXXXX|        XXXXXXXXX|3047 Foggy Forest...|     Lawrence|            MA|            1841|\n",
      "|   19801|2013-11-24 00:00:00|                8|        PENDING|          8|         Megan|         Smith|     XXXXXXXXX|        XXXXXXXXX|3047 Foggy Forest...|     Lawrence|            MA|            1841|\n",
      "+--------+-------------------+-----------------+---------------+-----------+--------------+--------------+--------------+-----------------+--------------------+-------------+--------------+----------------+\n",
      "only showing top 20 rows\n",
      "\n"
     ]
    },
    {
     "name": "stderr",
     "output_type": "stream",
     "text": [
      "                                                                                \r"
     ]
    }
   ],
   "source": [
    "joining_condition = df_customers.customer_id == df_orders.order_customer_id\n",
    "joined_df = df_orders.join(df_customers, joining_condition, 'outer').withColumn('order_id', F.expr('coalesce(order_id, -1)'))\n",
    "joined_df.show()"
   ]
  },
  {
   "cell_type": "code",
   "execution_count": 149,
   "metadata": {},
   "outputs": [],
   "source": [
    "spark.stop()"
   ]
  },
  {
   "cell_type": "code",
   "execution_count": null,
   "metadata": {},
   "outputs": [],
   "source": []
  }
 ],
 "metadata": {
  "kernelspec": {
   "display_name": "Python 3",
   "language": "python",
   "name": "python3"
  },
  "language_info": {
   "codemirror_mode": {
    "name": "ipython",
    "version": 3
   },
   "file_extension": ".py",
   "mimetype": "text/x-python",
   "name": "python",
   "nbconvert_exporter": "python",
   "pygments_lexer": "ipython3",
   "version": "3.7.15"
  },
  "orig_nbformat": 4,
  "vscode": {
   "interpreter": {
    "hash": "31f2aee4e71d21fbe5cf8b01ff0e069b9275f58929596ceb00d14d90e3e16cd6"
   }
  }
 },
 "nbformat": 4,
 "nbformat_minor": 2
}
