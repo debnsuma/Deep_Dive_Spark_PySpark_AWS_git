{
 "cells": [
  {
   "attachments": {},
   "cell_type": "markdown",
   "metadata": {},
   "source": [
    "# Create spark session"
   ]
  },
  {
   "cell_type": "code",
   "execution_count": 93,
   "metadata": {},
   "outputs": [],
   "source": [
    "from pyspark import SparkConf\n",
    "from pyspark.sql import SparkSession\n",
    "from pyspark.sql.types import StructField, StructType, IntegerType, StringType, FloatType, DateType\n",
    "from pyspark.sql import functions as F\n",
    "\n",
    "my_conf = SparkConf()\n",
    "my_conf.set(\"spark.app.name\", \"My Application\")\n",
    "my_conf.set(\"spark.ui.port\", \"4051\")\n",
    "\n",
    "spark = SparkSession \\\n",
    "            .builder \\\n",
    "            .config(conf=my_conf) \\\n",
    "            .getOrCreate()\n",
    "\n",
    "spark.sparkContext.setLogLevel(\"ERROR\")"
   ]
  },
  {
   "cell_type": "code",
   "execution_count": 15,
   "metadata": {},
   "outputs": [],
   "source": [
    "# Load the data in a Python List \n",
    "\n",
    "#DATASET_PATH = 's3://data-engg-suman/dataset/bigLog2.txt'\n",
    "\n",
    "DATASET_PATH = 's3://data-engg-suman/dataset/bigLog_sample.txt'\n",
    "\n",
    "rdd1 = spark.sparkContext.textFile(DATASET_PATH)"
   ]
  },
  {
   "cell_type": "markdown",
   "metadata": {},
   "source": []
  },
  {
   "cell_type": "code",
   "execution_count": 16,
   "metadata": {},
   "outputs": [
    {
     "data": {
      "text/plain": [
       "['DEBUG,2015-2-6 16:24:07',\n",
       " 'WARN,2016-7-26 18:54:43',\n",
       " 'INFO,2012-10-18 14:35:19',\n",
       " 'DEBUG,2012-4-26 14:26:50']"
      ]
     },
     "execution_count": 16,
     "metadata": {},
     "output_type": "execute_result"
    }
   ],
   "source": [
    "rdd1.take(4)"
   ]
  },
  {
   "cell_type": "code",
   "execution_count": 40,
   "metadata": {},
   "outputs": [],
   "source": [
    "from datetime import datetime\n",
    "\n",
    "def line_parser(line):\n",
    "\n",
    "    each_line = line.split(\",\")\n",
    "    date_string = each_line[1]\n",
    "    date_object = datetime.strptime(date_string, \"%Y-%m-%d %H:%M:%S\")\n",
    "\n",
    "    return each_line[0], date_object\n",
    "\n",
    "rdd2 = rdd1.map(line_parser)\n",
    "    "
   ]
  },
  {
   "cell_type": "code",
   "execution_count": 47,
   "metadata": {},
   "outputs": [
    {
     "name": "stdout",
     "output_type": "stream",
     "text": [
      "+-----+-------------------+\n",
      "|level|           datetime|\n",
      "+-----+-------------------+\n",
      "|DEBUG|2015-02-06 16:24:07|\n",
      "| WARN|2016-07-26 18:54:43|\n",
      "| INFO|2012-10-18 14:35:19|\n",
      "+-----+-------------------+\n",
      "only showing top 3 rows\n",
      "\n"
     ]
    }
   ],
   "source": [
    "df1 = rdd2.toDF(['level', 'datetime'])\n",
    "df1.show(3)"
   ]
  },
  {
   "cell_type": "code",
   "execution_count": 56,
   "metadata": {},
   "outputs": [
    {
     "name": "stdout",
     "output_type": "stream",
     "text": [
      "+-----+----------------------+-----+\n",
      "|level|collect_list(datetime)|count|\n",
      "+-----+----------------------+-----+\n",
      "|DEBUG|  [2015-02-06 16:24...|   52|\n",
      "|ERROR|  [2015-06-28 19:25...|    3|\n",
      "|FATAL|  [2015-11-21 23:17...|    1|\n",
      "| INFO|  [2012-10-18 14:35...|   29|\n",
      "| WARN|  [2016-07-26 18:54...|   14|\n",
      "+-----+----------------------+-----+\n",
      "\n"
     ]
    }
   ],
   "source": [
    "df1.createOrReplaceTempView('my_logging_table')\n",
    "\n",
    "spark.sql('SELECT level, collect_list(datetime), count(datetime) AS count FROM my_logging_table GROUP BY level ORDER BY level').show(truncate=True)"
   ]
  },
  {
   "cell_type": "code",
   "execution_count": 58,
   "metadata": {},
   "outputs": [
    {
     "name": "stdout",
     "output_type": "stream",
     "text": [
      "+-----+---------------------------+\n",
      "|level|date_format(datetime, MMMM)|\n",
      "+-----+---------------------------+\n",
      "|DEBUG|                   February|\n",
      "| WARN|                       July|\n",
      "| INFO|                    October|\n",
      "|DEBUG|                      April|\n",
      "|DEBUG|                  September|\n",
      "| INFO|                     August|\n",
      "| INFO|                      April|\n",
      "|DEBUG|                       July|\n",
      "|DEBUG|                       July|\n",
      "| INFO|                    January|\n",
      "|DEBUG|                    January|\n",
      "|DEBUG|                    January|\n",
      "|DEBUG|                       July|\n",
      "|DEBUG|                        May|\n",
      "|DEBUG|                      March|\n",
      "| INFO|                     August|\n",
      "| WARN|                    January|\n",
      "| INFO|                       June|\n",
      "| INFO|                    January|\n",
      "|DEBUG|                       July|\n",
      "+-----+---------------------------+\n",
      "only showing top 20 rows\n",
      "\n"
     ]
    }
   ],
   "source": [
    "spark.sql('SELECT level, date_format(datetime, \"MMMM\") FROM my_logging_table').show(truncate=True)"
   ]
  },
  {
   "cell_type": "code",
   "execution_count": 63,
   "metadata": {},
   "outputs": [
    {
     "name": "stdout",
     "output_type": "stream",
     "text": [
      "+-----+--------+\n",
      "|level|   month|\n",
      "+-----+--------+\n",
      "|DEBUG|February|\n",
      "| WARN|    July|\n",
      "+-----+--------+\n",
      "only showing top 2 rows\n",
      "\n"
     ]
    }
   ],
   "source": [
    "df2 = spark.sql('SELECT level, date_format(datetime, \"MMMM\") AS month FROM my_logging_table')\n",
    "df2.show(2)"
   ]
  },
  {
   "cell_type": "code",
   "execution_count": 64,
   "metadata": {},
   "outputs": [
    {
     "name": "stdout",
     "output_type": "stream",
     "text": [
      "+-----+--------+\n",
      "|level|   month|\n",
      "+-----+--------+\n",
      "|DEBUG|February|\n",
      "| WARN|    July|\n",
      "| INFO| October|\n",
      "+-----+--------+\n",
      "only showing top 3 rows\n",
      "\n"
     ]
    }
   ],
   "source": [
    "df2.createOrReplaceTempView('my_logging_table_2')\n",
    "spark.sql('SELECT * FROM my_logging_table_2').show(3)\n"
   ]
  },
  {
   "cell_type": "code",
   "execution_count": 67,
   "metadata": {},
   "outputs": [
    {
     "name": "stdout",
     "output_type": "stream",
     "text": [
      "+-----+---------+--------+\n",
      "|level|    month|count(1)|\n",
      "+-----+---------+--------+\n",
      "| INFO|September|       2|\n",
      "|ERROR|     June|       2|\n",
      "|DEBUG| November|       3|\n",
      "| INFO|  October|       3|\n",
      "| INFO| December|       1|\n",
      "| WARN|  January|       1|\n",
      "| INFO|    March|       3|\n",
      "|DEBUG|  January|       7|\n",
      "| INFO|    April|       2|\n",
      "|DEBUG|    March|       3|\n",
      "|DEBUG|    April|       3|\n",
      "|DEBUG|   August|       4|\n",
      "| INFO|     June|       2|\n",
      "|DEBUG| December|       3|\n",
      "| INFO|      May|       2|\n",
      "|DEBUG| February|       3|\n",
      "| INFO|   August|       4|\n",
      "|DEBUG|     June|       4|\n",
      "| INFO|  January|       2|\n",
      "| WARN|     July|       1|\n",
      "+-----+---------+--------+\n",
      "only showing top 20 rows\n",
      "\n"
     ]
    }
   ],
   "source": [
    "spark.sql('SELECT level, month, count(*) FROM my_logging_table_2 GROUP BY level, month').show()\n"
   ]
  },
  {
   "cell_type": "code",
   "execution_count": 184,
   "metadata": {},
   "outputs": [],
   "source": [
    "spark.stop()"
   ]
  }
 ],
 "metadata": {
  "kernelspec": {
   "display_name": "Python 3",
   "language": "python",
   "name": "python3"
  },
  "language_info": {
   "codemirror_mode": {
    "name": "ipython",
    "version": 3
   },
   "file_extension": ".py",
   "mimetype": "text/x-python",
   "name": "python",
   "nbconvert_exporter": "python",
   "pygments_lexer": "ipython3",
   "version": "3.7.15"
  },
  "orig_nbformat": 4,
  "vscode": {
   "interpreter": {
    "hash": "31f2aee4e71d21fbe5cf8b01ff0e069b9275f58929596ceb00d14d90e3e16cd6"
   }
  }
 },
 "nbformat": 4,
 "nbformat_minor": 2
}
